{
  "nbformat": 4,
  "nbformat_minor": 0,
  "metadata": {
    "colab": {
      "name": "Aula4_numpy.ipynb",
      "provenance": [],
      "collapsed_sections": [],
      "authorship_tag": "ABX9TyMAeNeorqADZ/tTYUmaj3rq",
      "include_colab_link": true
    },
    "kernelspec": {
      "name": "python3",
      "display_name": "Python 3"
    }
  },
  "cells": [
    {
      "cell_type": "markdown",
      "metadata": {
        "id": "view-in-github",
        "colab_type": "text"
      },
      "source": [
        "<a href=\"https://colab.research.google.com/github/loslhp/Fundamentos-de-Data-Science-com-Python---Senai/blob/master/Aula4_numpy.ipynb\" target=\"_parent\"><img src=\"https://colab.research.google.com/assets/colab-badge.svg\" alt=\"Open In Colab\"/></a>"
      ]
    },
    {
      "cell_type": "code",
      "metadata": {
        "id": "qynreymLYjbA"
      },
      "source": [
        "## Aula4 numpy\n"
      ],
      "execution_count": null,
      "outputs": []
    },
    {
      "cell_type": "code",
      "metadata": {
        "id": "_hkgLYvFfp1W"
      },
      "source": [
        "import numpy as np"
      ],
      "execution_count": 1,
      "outputs": []
    },
    {
      "cell_type": "code",
      "metadata": {
        "id": "ogl7bbYWfsVQ"
      },
      "source": [
        "arr1 = np.array([1,2,3])"
      ],
      "execution_count": 2,
      "outputs": []
    },
    {
      "cell_type": "code",
      "metadata": {
        "id": "BA1rIS6thYhc",
        "outputId": "6b4d9d68-46da-4c35-bb1f-2856fc3257c7",
        "colab": {
          "base_uri": "https://localhost:8080/",
          "height": 34
        }
      },
      "source": [
        "arr1"
      ],
      "execution_count": 3,
      "outputs": [
        {
          "output_type": "execute_result",
          "data": {
            "text/plain": [
              "array([1, 2, 3])"
            ]
          },
          "metadata": {
            "tags": []
          },
          "execution_count": 3
        }
      ]
    },
    {
      "cell_type": "code",
      "metadata": {
        "id": "60sXgdbVhZUq",
        "outputId": "9b894896-2426-47e6-d28d-445b053dcfdf",
        "colab": {
          "base_uri": "https://localhost:8080/",
          "height": 34
        }
      },
      "source": [
        "arr1[0]"
      ],
      "execution_count": 4,
      "outputs": [
        {
          "output_type": "execute_result",
          "data": {
            "text/plain": [
              "1"
            ]
          },
          "metadata": {
            "tags": []
          },
          "execution_count": 4
        }
      ]
    },
    {
      "cell_type": "code",
      "metadata": {
        "id": "O9Ra1CObhb76",
        "outputId": "1714ab3a-d424-4963-f7d3-6c032467d104",
        "colab": {
          "base_uri": "https://localhost:8080/",
          "height": 34
        }
      },
      "source": [
        "##Pegar a ultima posição\n",
        "arr1[len(arr1)-1]"
      ],
      "execution_count": 5,
      "outputs": [
        {
          "output_type": "execute_result",
          "data": {
            "text/plain": [
              "3"
            ]
          },
          "metadata": {
            "tags": []
          },
          "execution_count": 5
        }
      ]
    },
    {
      "cell_type": "code",
      "metadata": {
        "id": "c-jjOBMphr9h",
        "outputId": "1cb3eaa3-bd27-417a-8659-ba94d5e69d66",
        "colab": {
          "base_uri": "https://localhost:8080/",
          "height": 34
        }
      },
      "source": [
        "##Pegar a ultima posição\n",
        "arr1[-1]"
      ],
      "execution_count": 6,
      "outputs": [
        {
          "output_type": "execute_result",
          "data": {
            "text/plain": [
              "3"
            ]
          },
          "metadata": {
            "tags": []
          },
          "execution_count": 6
        }
      ]
    },
    {
      "cell_type": "code",
      "metadata": {
        "id": "S59xDxpAiypS"
      },
      "source": [
        "arr2 = np.array([[1,2,3],[4,5,6,],[7,8,9]])"
      ],
      "execution_count": 7,
      "outputs": []
    },
    {
      "cell_type": "code",
      "metadata": {
        "id": "tReEUmjci8yt",
        "outputId": "2f01fa66-cd03-4de7-ee22-ae554120e7bd",
        "colab": {
          "base_uri": "https://localhost:8080/",
          "height": 69
        }
      },
      "source": [
        "arr2"
      ],
      "execution_count": 8,
      "outputs": [
        {
          "output_type": "execute_result",
          "data": {
            "text/plain": [
              "array([[1, 2, 3],\n",
              "       [4, 5, 6],\n",
              "       [7, 8, 9]])"
            ]
          },
          "metadata": {
            "tags": []
          },
          "execution_count": 8
        }
      ]
    },
    {
      "cell_type": "code",
      "metadata": {
        "id": "gmhtLVrDi9-N",
        "outputId": "b1a627c0-d4e8-4eab-bb13-8cef016f8e65",
        "colab": {
          "base_uri": "https://localhost:8080/",
          "height": 34
        }
      },
      "source": [
        "arr2[0,0]"
      ],
      "execution_count": 9,
      "outputs": [
        {
          "output_type": "execute_result",
          "data": {
            "text/plain": [
              "1"
            ]
          },
          "metadata": {
            "tags": []
          },
          "execution_count": 9
        }
      ]
    },
    {
      "cell_type": "code",
      "metadata": {
        "id": "gEMtOxscj6im",
        "outputId": "c28f7f69-37e6-4cc9-dd6a-5224c89bc52d",
        "colab": {
          "base_uri": "https://localhost:8080/",
          "height": 363
        }
      },
      "source": [
        "arr3 = np.random.randn(100)\n",
        "arr3"
      ],
      "execution_count": 14,
      "outputs": [
        {
          "output_type": "execute_result",
          "data": {
            "text/plain": [
              "array([-1.02384652,  0.07198466,  1.31166362, -1.19518194, -1.15487175,\n",
              "        0.27017521,  1.48413725, -1.45487085,  0.92202835, -0.02736363,\n",
              "       -0.61206812,  0.31909792,  0.57955491,  0.8050974 , -0.76920094,\n",
              "       -1.59843811, -0.83939349,  0.66982812,  0.46948492,  0.37278007,\n",
              "        1.27237889, -1.19558093, -0.11574568,  0.60940011, -1.42596405,\n",
              "       -0.20900684,  1.52352749,  2.0127666 ,  0.27665491,  1.244516  ,\n",
              "        0.23289548, -0.45549042, -2.36838244, -1.08608888, -2.46921751,\n",
              "        1.02346329,  0.08655323,  0.75088476, -1.38354441, -1.30553199,\n",
              "       -0.68401991, -1.29435915,  0.24601631, -0.41520435,  0.1467382 ,\n",
              "        0.0726751 ,  0.36105483,  1.32291617,  0.75457352,  0.36736393,\n",
              "        0.17885148,  1.13572152,  0.97724747,  0.77128318, -0.22094686,\n",
              "        0.78285406,  0.68957863,  0.20566229,  0.63743992,  0.36528381,\n",
              "        1.25494639, -1.01096315, -1.36780904,  0.58445615, -0.44602887,\n",
              "       -0.11368828,  0.62218491,  0.37103205, -0.91794073, -0.03203936,\n",
              "       -0.36939061, -0.26852006, -1.24635218,  0.39962394, -0.11639258,\n",
              "       -2.28056881, -0.19115875,  0.93917452, -0.92623397, -0.47996868,\n",
              "        1.12641022,  0.07013708, -1.05558227,  0.88808965, -3.11797137,\n",
              "       -0.63583804, -0.03904466, -0.2498068 , -0.51424014, -0.54540468,\n",
              "        0.7751149 ,  0.73586512,  0.09457617, -0.3925695 ,  1.10777475,\n",
              "        0.56308855, -0.12005496,  0.902012  , -0.60805252, -0.70673969])"
            ]
          },
          "metadata": {
            "tags": []
          },
          "execution_count": 14
        }
      ]
    },
    {
      "cell_type": "code",
      "metadata": {
        "id": "GFHJNFsmkDEJ",
        "outputId": "0c84d35f-4a7a-461b-d963-7894f0c05ced",
        "colab": {
          "base_uri": "https://localhost:8080/",
          "height": 52
        }
      },
      "source": [
        "##[posição inicial:quantidade de item a partir da posição inicial]\n",
        "arr3[0:10]"
      ],
      "execution_count": 24,
      "outputs": [
        {
          "output_type": "execute_result",
          "data": {
            "text/plain": [
              "array([-1.02384652,  0.07198466,  1.31166362, -1.19518194, -1.15487175,\n",
              "        0.27017521,  1.48413725, -1.45487085,  0.92202835, -0.02736363])"
            ]
          },
          "metadata": {
            "tags": []
          },
          "execution_count": 24
        }
      ]
    },
    {
      "cell_type": "code",
      "metadata": {
        "id": "Y7k8LULmk7kG",
        "outputId": "4f118d49-d48e-4e8e-a4d7-0a2aaa646b85",
        "colab": {
          "base_uri": "https://localhost:8080/",
          "height": 34
        }
      },
      "source": [
        "arr3[-1]"
      ],
      "execution_count": 21,
      "outputs": [
        {
          "output_type": "execute_result",
          "data": {
            "text/plain": [
              "-0.7067396907736083"
            ]
          },
          "metadata": {
            "tags": []
          },
          "execution_count": 21
        }
      ]
    },
    {
      "cell_type": "code",
      "metadata": {
        "id": "kpKVp_3Sl_kr",
        "outputId": "42a5d3ce-52f2-41e2-e567-0aac61a1670d",
        "colab": {
          "base_uri": "https://localhost:8080/",
          "height": 34
        }
      },
      "source": [
        "arr4 =[arr3[0],arr3[-1]]\n",
        "arr4"
      ],
      "execution_count": 23,
      "outputs": [
        {
          "output_type": "execute_result",
          "data": {
            "text/plain": [
              "[-1.0238465245207728, -0.7067396907736083]"
            ]
          },
          "metadata": {
            "tags": []
          },
          "execution_count": 23
        }
      ]
    },
    {
      "cell_type": "code",
      "metadata": {
        "id": "a6Z8SBfmmIcq",
        "outputId": "42707369-1927-4fed-90bf-efe91a5f6729",
        "colab": {
          "base_uri": "https://localhost:8080/",
          "height": 86
        }
      },
      "source": [
        "arr3 = np.random.rand(4,4)\n",
        "arr3"
      ],
      "execution_count": 27,
      "outputs": [
        {
          "output_type": "execute_result",
          "data": {
            "text/plain": [
              "array([[0.88341808, 0.86091225, 0.81099437, 0.3347422 ],\n",
              "       [0.15982972, 0.1666741 , 0.71300271, 0.36621853],\n",
              "       [0.73723192, 0.5805197 , 0.17135929, 0.05357277],\n",
              "       [0.2511231 , 0.17662121, 0.15303289, 0.35364129]])"
            ]
          },
          "metadata": {
            "tags": []
          },
          "execution_count": 27
        }
      ]
    },
    {
      "cell_type": "code",
      "metadata": {
        "id": "cWY7Jv_RmnsK",
        "outputId": "5abc348f-f750-41b6-c542-d471045384a6",
        "colab": {
          "base_uri": "https://localhost:8080/",
          "height": 34
        }
      },
      "source": [
        "arr3[1,1]"
      ],
      "execution_count": 29,
      "outputs": [
        {
          "output_type": "execute_result",
          "data": {
            "text/plain": [
              "0.1666740999445624"
            ]
          },
          "metadata": {
            "tags": []
          },
          "execution_count": 29
        }
      ]
    },
    {
      "cell_type": "code",
      "metadata": {
        "id": "X5QtN76xm_tH"
      },
      "source": [
        "import math as mt"
      ],
      "execution_count": 30,
      "outputs": []
    },
    {
      "cell_type": "code",
      "metadata": {
        "id": "-NsPP405n49c",
        "outputId": "86b4d9ab-86f9-454e-db18-5758122dcc70",
        "colab": {
          "base_uri": "https://localhost:8080/",
          "height": 34
        }
      },
      "source": [
        "np.mean(arr3)"
      ],
      "execution_count": 31,
      "outputs": [
        {
          "output_type": "execute_result",
          "data": {
            "text/plain": [
              "0.4233058832314155"
            ]
          },
          "metadata": {
            "tags": []
          },
          "execution_count": 31
        }
      ]
    },
    {
      "cell_type": "code",
      "metadata": {
        "id": "v-V2Rhrun8z0",
        "outputId": "51a39a68-4d70-4b7a-9d10-260f035a6496",
        "colab": {
          "base_uri": "https://localhost:8080/",
          "height": 34
        }
      },
      "source": [
        "np.std(arr3)"
      ],
      "execution_count": 32,
      "outputs": [
        {
          "output_type": "execute_result",
          "data": {
            "text/plain": [
              "0.2823625239860823"
            ]
          },
          "metadata": {
            "tags": []
          },
          "execution_count": 32
        }
      ]
    },
    {
      "cell_type": "code",
      "metadata": {
        "id": "5mcfKlYOn_1U",
        "outputId": "5176afd8-b7a3-4061-9f41-d1b468bd3fc8",
        "colab": {
          "base_uri": "https://localhost:8080/",
          "height": 34
        }
      },
      "source": [
        "arr6 = np.random.randn(10000)\n",
        "np.mean(arr6)"
      ],
      "execution_count": 36,
      "outputs": [
        {
          "output_type": "execute_result",
          "data": {
            "text/plain": [
              "-0.00179695408771749"
            ]
          },
          "metadata": {
            "tags": []
          },
          "execution_count": 36
        }
      ]
    },
    {
      "cell_type": "code",
      "metadata": {
        "id": "kA9otya2ozKJ",
        "outputId": "580f684d-60d5-4418-e513-ad9000b5a034",
        "colab": {
          "base_uri": "https://localhost:8080/",
          "height": 104
        }
      },
      "source": [
        "arr7 = np.random.randn(5,5)\n",
        "arr7"
      ],
      "execution_count": 50,
      "outputs": [
        {
          "output_type": "execute_result",
          "data": {
            "text/plain": [
              "array([[ 1.03929638,  0.3787928 , -0.83192243, -0.45767824, -0.09345049],\n",
              "       [ 1.77364062, -0.55846241,  0.48820871,  1.14813805, -0.37312139],\n",
              "       [-0.91040782,  0.13818095, -0.3714565 , -1.29293079, -1.24001333],\n",
              "       [-2.40959293,  1.4861805 , -0.00331791, -0.56941025,  0.21121826],\n",
              "       [-2.5588389 ,  1.21085272,  1.13428557, -1.12935022,  0.27580322]])"
            ]
          },
          "metadata": {
            "tags": []
          },
          "execution_count": 50
        }
      ]
    },
    {
      "cell_type": "code",
      "metadata": {
        "id": "SIsqCjhzpQ_X",
        "outputId": "73565622-aab9-48ef-a791-4556903c8b54",
        "colab": {
          "base_uri": "https://localhost:8080/",
          "height": 69
        }
      },
      "source": [
        "#linha e coluna\n",
        "arr7[0:3,1:3]"
      ],
      "execution_count": 69,
      "outputs": [
        {
          "output_type": "execute_result",
          "data": {
            "text/plain": [
              "array([[ 0.3787928 , -0.83192243],\n",
              "       [-0.55846241,  0.48820871],\n",
              "       [ 0.13818095, -0.3714565 ]])"
            ]
          },
          "metadata": {
            "tags": []
          },
          "execution_count": 69
        }
      ]
    },
    {
      "cell_type": "code",
      "metadata": {
        "id": "D8mYVuqDp1aV",
        "outputId": "a56af60f-9427-4944-a1c0-321fa5a1d6e4",
        "colab": {
          "base_uri": "https://localhost:8080/",
          "height": 69
        }
      },
      "source": [
        "#[indice:quantas colunas quero]\n",
        "arr7[2:5,2:5]"
      ],
      "execution_count": 71,
      "outputs": [
        {
          "output_type": "execute_result",
          "data": {
            "text/plain": [
              "array([[-0.3714565 , -1.29293079, -1.24001333],\n",
              "       [-0.00331791, -0.56941025,  0.21121826],\n",
              "       [ 1.13428557, -1.12935022,  0.27580322]])"
            ]
          },
          "metadata": {
            "tags": []
          },
          "execution_count": 71
        }
      ]
    },
    {
      "cell_type": "code",
      "metadata": {
        "id": "VcbZ1docsdSk",
        "outputId": "cf30a002-9eb9-4eee-ba7e-9ceb5fdc4c50",
        "colab": {
          "base_uri": "https://localhost:8080/",
          "height": 34
        }
      },
      "source": [
        "arr7[2:3]"
      ],
      "execution_count": 77,
      "outputs": [
        {
          "output_type": "execute_result",
          "data": {
            "text/plain": [
              "array([[-0.91040782,  0.13818095, -0.3714565 , -1.29293079, -1.24001333]])"
            ]
          },
          "metadata": {
            "tags": []
          },
          "execution_count": 77
        }
      ]
    },
    {
      "cell_type": "code",
      "metadata": {
        "id": "zUjZaWhCuPxH",
        "outputId": "090275c2-0f4f-4e89-a1c3-28482b3d8370",
        "colab": {
          "base_uri": "https://localhost:8080/",
          "height": 104
        }
      },
      "source": [
        "arr7[:,2:3]"
      ],
      "execution_count": 78,
      "outputs": [
        {
          "output_type": "execute_result",
          "data": {
            "text/plain": [
              "array([[-0.83192243],\n",
              "       [ 0.48820871],\n",
              "       [-0.3714565 ],\n",
              "       [-0.00331791],\n",
              "       [ 1.13428557]])"
            ]
          },
          "metadata": {
            "tags": []
          },
          "execution_count": 78
        }
      ]
    },
    {
      "cell_type": "code",
      "metadata": {
        "id": "wKsXIGIzvTlt"
      },
      "source": [
        "arr71 = arr7[2:3]"
      ],
      "execution_count": 79,
      "outputs": []
    },
    {
      "cell_type": "code",
      "metadata": {
        "id": "G-vRHA1DwUQn"
      },
      "source": [
        "arr72 = arr7[:,2:3]"
      ],
      "execution_count": 80,
      "outputs": []
    },
    {
      "cell_type": "code",
      "metadata": {
        "id": "LwWx63G_wYJm",
        "outputId": "a6039521-ab52-43eb-fc95-0c406b5c0db5",
        "colab": {
          "base_uri": "https://localhost:8080/",
          "height": 52
        }
      },
      "source": [
        "np.append(arr71,arr72)"
      ],
      "execution_count": 81,
      "outputs": [
        {
          "output_type": "execute_result",
          "data": {
            "text/plain": [
              "array([-0.91040782,  0.13818095, -0.3714565 , -1.29293079, -1.24001333,\n",
              "       -0.83192243,  0.48820871, -0.3714565 , -0.00331791,  1.13428557])"
            ]
          },
          "metadata": {
            "tags": []
          },
          "execution_count": 81
        }
      ]
    },
    {
      "cell_type": "code",
      "metadata": {
        "id": "YTsqdENHwe9-",
        "outputId": "30407c7e-b7a6-4f9f-cd8b-0e9a3cf87d5a",
        "colab": {
          "base_uri": "https://localhost:8080/",
          "height": 224
        }
      },
      "source": [
        "arr8 = np.random.randn(6,6)\n",
        "arr8"
      ],
      "execution_count": 84,
      "outputs": [
        {
          "output_type": "execute_result",
          "data": {
            "text/plain": [
              "array([[ 0.17595047, -0.46400418, -0.14878971,  0.05141086,  0.46815575,\n",
              "        -0.37198523],\n",
              "       [ 1.58786354, -1.59653459,  1.00733449, -1.20395819,  0.14331394,\n",
              "         0.27000349],\n",
              "       [-1.95690437,  0.86448982,  1.00807034,  0.76752396,  0.27534839,\n",
              "         0.05644369],\n",
              "       [-1.00611074,  0.75805155, -2.1296968 , -1.33495405,  1.90298629,\n",
              "        -0.23900619],\n",
              "       [-0.61637267,  1.22298605, -0.98632522,  0.27776388,  1.26263451,\n",
              "        -0.8791963 ],\n",
              "       [ 0.37372154,  0.07208375, -0.2599208 ,  0.25160064, -0.97166685,\n",
              "        -0.88585812]])"
            ]
          },
          "metadata": {
            "tags": []
          },
          "execution_count": 84
        }
      ]
    },
    {
      "cell_type": "code",
      "metadata": {
        "id": "XUIwp5a6zDHu",
        "outputId": "2e090f9c-4356-4efb-fe95-ab502240be04",
        "colab": {
          "base_uri": "https://localhost:8080/",
          "height": 217
        }
      },
      "source": [
        "arr8[0,0] = 0\n",
        "arr8"
      ],
      "execution_count": 85,
      "outputs": [
        {
          "output_type": "execute_result",
          "data": {
            "text/plain": [
              "array([[ 0.        , -0.46400418, -0.14878971,  0.05141086,  0.46815575,\n",
              "        -0.37198523],\n",
              "       [ 1.58786354, -1.59653459,  1.00733449, -1.20395819,  0.14331394,\n",
              "         0.27000349],\n",
              "       [-1.95690437,  0.86448982,  1.00807034,  0.76752396,  0.27534839,\n",
              "         0.05644369],\n",
              "       [-1.00611074,  0.75805155, -2.1296968 , -1.33495405,  1.90298629,\n",
              "        -0.23900619],\n",
              "       [-0.61637267,  1.22298605, -0.98632522,  0.27776388,  1.26263451,\n",
              "        -0.8791963 ],\n",
              "       [ 0.37372154,  0.07208375, -0.2599208 ,  0.25160064, -0.97166685,\n",
              "        -0.88585812]])"
            ]
          },
          "metadata": {
            "tags": []
          },
          "execution_count": 85
        }
      ]
    },
    {
      "cell_type": "code",
      "metadata": {
        "id": "BPoqWNWLzP6N",
        "outputId": "e01b6492-dfab-4f69-e44c-7915f9eed88d",
        "colab": {
          "base_uri": "https://localhost:8080/",
          "height": 217
        }
      },
      "source": [
        "arr8[0:2,0:2] = 0\n",
        "arr8"
      ],
      "execution_count": 86,
      "outputs": [
        {
          "output_type": "execute_result",
          "data": {
            "text/plain": [
              "array([[ 0.        ,  0.        , -0.14878971,  0.05141086,  0.46815575,\n",
              "        -0.37198523],\n",
              "       [ 0.        ,  0.        ,  1.00733449, -1.20395819,  0.14331394,\n",
              "         0.27000349],\n",
              "       [-1.95690437,  0.86448982,  1.00807034,  0.76752396,  0.27534839,\n",
              "         0.05644369],\n",
              "       [-1.00611074,  0.75805155, -2.1296968 , -1.33495405,  1.90298629,\n",
              "        -0.23900619],\n",
              "       [-0.61637267,  1.22298605, -0.98632522,  0.27776388,  1.26263451,\n",
              "        -0.8791963 ],\n",
              "       [ 0.37372154,  0.07208375, -0.2599208 ,  0.25160064, -0.97166685,\n",
              "        -0.88585812]])"
            ]
          },
          "metadata": {
            "tags": []
          },
          "execution_count": 86
        }
      ]
    },
    {
      "cell_type": "code",
      "metadata": {
        "id": "4o1x5gTdz0Ej",
        "outputId": "fa943105-a3e1-4bc8-8fa3-a732296cd641",
        "colab": {
          "base_uri": "https://localhost:8080/",
          "height": 33
        }
      },
      "source": [
        "arr10 = np.random.randn(10, 7)\n",
        "arr10"
      ],
      "execution_count": 89,
      "outputs": [
        {
          "output_type": "execute_result",
          "data": {
            "text/plain": [
              "(10, 7)"
            ]
          },
          "metadata": {
            "tags": []
          },
          "execution_count": 89
        }
      ]
    },
    {
      "cell_type": "code",
      "metadata": {
        "id": "N0fysFA80bMZ",
        "outputId": "e78fc032-a69b-43c6-bb1b-76dff4b3f92e",
        "colab": {
          "base_uri": "https://localhost:8080/",
          "height": 134
        }
      },
      "source": [
        "arr10[arr10>0]"
      ],
      "execution_count": 90,
      "outputs": [
        {
          "output_type": "execute_result",
          "data": {
            "text/plain": [
              "array([0.63314799, 0.42451902, 0.83963994, 0.56579489, 1.11293382,\n",
              "       1.7433862 , 0.24269097, 1.08124451, 1.13479996, 1.17616956,\n",
              "       0.19605282, 1.19785951, 1.63054334, 0.52409041, 0.97723849,\n",
              "       0.11853861, 0.02836536, 1.5247277 , 0.0792557 , 0.09727779,\n",
              "       0.69370541, 0.67979384, 0.41577922, 2.20008777, 1.02069508,\n",
              "       0.18366662, 0.96960738, 0.48952841, 1.0631263 , 0.78748273,\n",
              "       1.91461553, 0.19449899])"
            ]
          },
          "metadata": {
            "tags": []
          },
          "execution_count": 90
        }
      ]
    },
    {
      "cell_type": "code",
      "metadata": {
        "id": "Ek0pcU5T0tGI",
        "outputId": "825441a7-6436-4263-e740-430fa8804a34",
        "colab": {
          "base_uri": "https://localhost:8080/",
          "height": 351
        }
      },
      "source": [
        "#Comando booleando substituindo valores\n",
        "arr10[arr10<0] = 0\n",
        "arr10"
      ],
      "execution_count": 93,
      "outputs": [
        {
          "output_type": "execute_result",
          "data": {
            "text/plain": [
              "array([[0.        , 0.63314799, 0.42451902, 0.        , 0.        ,\n",
              "        0.        , 0.        ],\n",
              "       [0.83963994, 0.        , 0.        , 0.        , 0.        ,\n",
              "        0.        , 0.56579489],\n",
              "       [1.11293382, 0.        , 1.7433862 , 0.24269097, 1.08124451,\n",
              "        0.        , 0.        ],\n",
              "       [1.13479996, 0.        , 1.17616956, 0.        , 0.        ,\n",
              "        0.19605282, 1.19785951],\n",
              "       [0.        , 1.63054334, 0.52409041, 0.97723849, 0.        ,\n",
              "        0.11853861, 0.        ],\n",
              "       [0.02836536, 0.        , 0.        , 1.5247277 , 0.0792557 ,\n",
              "        0.09727779, 0.69370541],\n",
              "       [0.        , 0.67979384, 0.        , 0.        , 0.        ,\n",
              "        0.41577922, 0.        ],\n",
              "       [2.20008777, 1.02069508, 0.        , 0.        , 0.        ,\n",
              "        0.        , 0.        ],\n",
              "       [0.18366662, 0.        , 0.        , 0.        , 0.96960738,\n",
              "        0.48952841, 1.0631263 ],\n",
              "       [0.78748273, 0.        , 1.91461553, 0.        , 0.        ,\n",
              "        0.        , 0.19449899]])"
            ]
          },
          "metadata": {
            "tags": []
          },
          "execution_count": 93
        }
      ]
    },
    {
      "cell_type": "code",
      "metadata": {
        "id": "SkkXZAvj04nA",
        "outputId": "3e02a8cd-1a40-4dd1-c0c6-5b776da3d05f",
        "colab": {
          "base_uri": "https://localhost:8080/",
          "height": 184
        }
      },
      "source": [
        "arr10 >0"
      ],
      "execution_count": 94,
      "outputs": [
        {
          "output_type": "execute_result",
          "data": {
            "text/plain": [
              "array([[False,  True,  True, False, False, False, False],\n",
              "       [ True, False, False, False, False, False,  True],\n",
              "       [ True, False,  True,  True,  True, False, False],\n",
              "       [ True, False,  True, False, False,  True,  True],\n",
              "       [False,  True,  True,  True, False,  True, False],\n",
              "       [ True, False, False,  True,  True,  True,  True],\n",
              "       [False,  True, False, False, False,  True, False],\n",
              "       [ True,  True, False, False, False, False, False],\n",
              "       [ True, False, False, False,  True,  True,  True],\n",
              "       [ True, False,  True, False, False, False,  True]])"
            ]
          },
          "metadata": {
            "tags": []
          },
          "execution_count": 94
        }
      ]
    },
    {
      "cell_type": "code",
      "metadata": {
        "id": "HBa6YNrH1fm9",
        "outputId": "3dccf005-700c-43da-9df0-20677a623d2d",
        "colab": {
          "base_uri": "https://localhost:8080/",
          "height": 251
        }
      },
      "source": [
        "arr10 = np.random.randn(7, 7)\n",
        "arrmask = np.array(['Seg','Ter', 'Qua', 'Qui','Sex', 'Sab', 'Dom'])\n",
        "arr10"
      ],
      "execution_count": 126,
      "outputs": [
        {
          "output_type": "execute_result",
          "data": {
            "text/plain": [
              "array([[-0.96938111, -1.53880547, -1.21658835, -1.30406808, -0.73041662,\n",
              "        -0.04908948, -0.53422413],\n",
              "       [ 1.33583646, -1.68080715,  0.65746144, -1.77722022,  1.71292677,\n",
              "         0.6397051 ,  1.17191067],\n",
              "       [-1.07389531,  0.60981162,  1.40784496, -0.64335927,  0.08890418,\n",
              "        -1.23302367, -1.7776463 ],\n",
              "       [-1.52053078, -0.06748091, -0.33678327, -0.9485274 ,  0.15710372,\n",
              "         1.43496216, -0.5089681 ],\n",
              "       [ 0.6455309 , -0.87574278,  0.50237601,  1.3862864 , -0.20345629,\n",
              "         0.25212235, -0.98266291],\n",
              "       [-0.18820975,  1.9027834 , -1.59281699, -0.04524577, -0.8422796 ,\n",
              "         1.47559094,  0.99085345],\n",
              "       [-0.28544479,  0.53712512,  1.65077193,  2.50201926,  0.50133819,\n",
              "        -0.096169  , -1.35682241]])"
            ]
          },
          "metadata": {
            "tags": []
          },
          "execution_count": 126
        }
      ]
    },
    {
      "cell_type": "code",
      "metadata": {
        "id": "bYDEo-cY2gJx",
        "outputId": "4597a98d-c870-47bd-dc5f-4edf1e26aca4",
        "colab": {
          "base_uri": "https://localhost:8080/",
          "height": 33
        }
      },
      "source": [
        "arr10[arrmask == 'Dom']"
      ],
      "execution_count": 120,
      "outputs": [
        {
          "output_type": "execute_result",
          "data": {
            "text/plain": [
              "array([[-1.31328775,  0.63963106,  0.50895245, -1.30923195,  1.4032003 ]])"
            ]
          },
          "metadata": {
            "tags": []
          },
          "execution_count": 120
        }
      ]
    },
    {
      "cell_type": "code",
      "metadata": {
        "id": "cA32NusW2kp6",
        "outputId": "c52b1a02-639c-4876-c4f7-1dba803a470f",
        "colab": {
          "base_uri": "https://localhost:8080/",
          "height": 184
        }
      },
      "source": [
        "#Transpor\n",
        "arr10.T"
      ],
      "execution_count": 121,
      "outputs": [
        {
          "output_type": "execute_result",
          "data": {
            "text/plain": [
              "array([[-0.05389624,  0.48594182,  0.49017718,  0.80912581, -0.18510238,\n",
              "        -0.34231337, -1.31328775],\n",
              "       [-0.94436141, -2.25337444,  1.53612865, -0.11459425, -1.40898167,\n",
              "        -1.12492426,  0.63963106],\n",
              "       [ 1.2469635 ,  1.56518029, -0.78901943,  1.01473059, -0.12968884,\n",
              "        -1.98632525,  0.50895245],\n",
              "       [ 0.99014162,  1.49247215, -0.8771184 ,  0.59337267,  0.68919398,\n",
              "         1.14119844, -1.30923195],\n",
              "       [ 0.59131534, -0.60994297,  0.72028492,  0.46040488, -0.65215388,\n",
              "        -0.44181312,  1.4032003 ]])"
            ]
          },
          "metadata": {
            "tags": []
          },
          "execution_count": 121
        }
      ]
    },
    {
      "cell_type": "code",
      "metadata": {
        "id": "Qg_ZrTaR5mL5",
        "outputId": "67cbc1ba-11c3-4d74-d78e-00e1f6333aa0",
        "colab": {
          "base_uri": "https://localhost:8080/",
          "height": 134
        }
      },
      "source": [
        "#Jogar a mascara para a linha das colunas\n",
        "arr10[:,arrmask == 'Seg']"
      ],
      "execution_count": 127,
      "outputs": [
        {
          "output_type": "execute_result",
          "data": {
            "text/plain": [
              "array([[-0.96938111],\n",
              "       [ 1.33583646],\n",
              "       [-1.07389531],\n",
              "       [-1.52053078],\n",
              "       [ 0.6455309 ],\n",
              "       [-0.18820975],\n",
              "       [-0.28544479]])"
            ]
          },
          "metadata": {
            "tags": []
          },
          "execution_count": 127
        }
      ]
    },
    {
      "cell_type": "code",
      "metadata": {
        "id": "pCQTAIsa5o9E"
      },
      "source": [
        "arr10[]"
      ],
      "execution_count": null,
      "outputs": []
    }
  ]
}