{
  "nbformat": 4,
  "nbformat_minor": 0,
  "metadata": {
    "colab": {
      "name": "Aula4_numpy.ipynb",
      "provenance": [],
      "collapsed_sections": [],
      "authorship_tag": "ABX9TyOCp21IsKJfCk0+H+l3D7CR",
      "include_colab_link": true
    },
    "kernelspec": {
      "name": "python3",
      "display_name": "Python 3"
    }
  },
  "cells": [
    {
      "cell_type": "markdown",
      "metadata": {
        "id": "view-in-github",
        "colab_type": "text"
      },
      "source": [
        "<a href=\"https://colab.research.google.com/github/loslhp/Fundamentos-de-Data-Science-com-Python---Senai/blob/master/Aula4_numpy.ipynb\" target=\"_parent\"><img src=\"https://colab.research.google.com/assets/colab-badge.svg\" alt=\"Open In Colab\"/></a>"
      ]
    },
    {
      "cell_type": "code",
      "metadata": {
        "id": "qynreymLYjbA"
      },
      "source": [
        "## Aula4 numpy\n"
      ],
      "execution_count": null,
      "outputs": []
    },
    {
      "cell_type": "code",
      "metadata": {
        "id": "_hkgLYvFfp1W"
      },
      "source": [
        "import numpy as np"
      ],
      "execution_count": 1,
      "outputs": []
    },
    {
      "cell_type": "code",
      "metadata": {
        "id": "ogl7bbYWfsVQ"
      },
      "source": [
        "arr1 = np.array([1,2,3])"
      ],
      "execution_count": 2,
      "outputs": []
    },
    {
      "cell_type": "code",
      "metadata": {
        "id": "BA1rIS6thYhc",
        "outputId": "6b4d9d68-46da-4c35-bb1f-2856fc3257c7",
        "colab": {
          "base_uri": "https://localhost:8080/",
          "height": 34
        }
      },
      "source": [
        "arr1"
      ],
      "execution_count": 3,
      "outputs": [
        {
          "output_type": "execute_result",
          "data": {
            "text/plain": [
              "array([1, 2, 3])"
            ]
          },
          "metadata": {
            "tags": []
          },
          "execution_count": 3
        }
      ]
    },
    {
      "cell_type": "code",
      "metadata": {
        "id": "60sXgdbVhZUq",
        "outputId": "9b894896-2426-47e6-d28d-445b053dcfdf",
        "colab": {
          "base_uri": "https://localhost:8080/",
          "height": 34
        }
      },
      "source": [
        "arr1[0]"
      ],
      "execution_count": 4,
      "outputs": [
        {
          "output_type": "execute_result",
          "data": {
            "text/plain": [
              "1"
            ]
          },
          "metadata": {
            "tags": []
          },
          "execution_count": 4
        }
      ]
    },
    {
      "cell_type": "code",
      "metadata": {
        "id": "O9Ra1CObhb76",
        "outputId": "1714ab3a-d424-4963-f7d3-6c032467d104",
        "colab": {
          "base_uri": "https://localhost:8080/",
          "height": 34
        }
      },
      "source": [
        "##Pegar a ultima posição\n",
        "arr1[len(arr1)-1]"
      ],
      "execution_count": 5,
      "outputs": [
        {
          "output_type": "execute_result",
          "data": {
            "text/plain": [
              "3"
            ]
          },
          "metadata": {
            "tags": []
          },
          "execution_count": 5
        }
      ]
    },
    {
      "cell_type": "code",
      "metadata": {
        "id": "c-jjOBMphr9h",
        "outputId": "1cb3eaa3-bd27-417a-8659-ba94d5e69d66",
        "colab": {
          "base_uri": "https://localhost:8080/",
          "height": 34
        }
      },
      "source": [
        "##Pegar a ultima posição\n",
        "arr1[-1]"
      ],
      "execution_count": 6,
      "outputs": [
        {
          "output_type": "execute_result",
          "data": {
            "text/plain": [
              "3"
            ]
          },
          "metadata": {
            "tags": []
          },
          "execution_count": 6
        }
      ]
    },
    {
      "cell_type": "code",
      "metadata": {
        "id": "S59xDxpAiypS"
      },
      "source": [
        "arr2 = np.array([[1,2,3],[4,5,6,],[7,8,9]])"
      ],
      "execution_count": 7,
      "outputs": []
    },
    {
      "cell_type": "code",
      "metadata": {
        "id": "tReEUmjci8yt",
        "outputId": "2f01fa66-cd03-4de7-ee22-ae554120e7bd",
        "colab": {
          "base_uri": "https://localhost:8080/",
          "height": 69
        }
      },
      "source": [
        "arr2"
      ],
      "execution_count": 8,
      "outputs": [
        {
          "output_type": "execute_result",
          "data": {
            "text/plain": [
              "array([[1, 2, 3],\n",
              "       [4, 5, 6],\n",
              "       [7, 8, 9]])"
            ]
          },
          "metadata": {
            "tags": []
          },
          "execution_count": 8
        }
      ]
    },
    {
      "cell_type": "code",
      "metadata": {
        "id": "gmhtLVrDi9-N",
        "outputId": "b1a627c0-d4e8-4eab-bb13-8cef016f8e65",
        "colab": {
          "base_uri": "https://localhost:8080/",
          "height": 34
        }
      },
      "source": [
        "arr2[0,0]"
      ],
      "execution_count": 9,
      "outputs": [
        {
          "output_type": "execute_result",
          "data": {
            "text/plain": [
              "1"
            ]
          },
          "metadata": {
            "tags": []
          },
          "execution_count": 9
        }
      ]
    },
    {
      "cell_type": "code",
      "metadata": {
        "id": "gEMtOxscj6im",
        "outputId": "c28f7f69-37e6-4cc9-dd6a-5224c89bc52d",
        "colab": {
          "base_uri": "https://localhost:8080/",
          "height": 363
        }
      },
      "source": [
        "arr3 = np.random.randn(100)\n",
        "arr3"
      ],
      "execution_count": 14,
      "outputs": [
        {
          "output_type": "execute_result",
          "data": {
            "text/plain": [
              "array([-1.02384652,  0.07198466,  1.31166362, -1.19518194, -1.15487175,\n",
              "        0.27017521,  1.48413725, -1.45487085,  0.92202835, -0.02736363,\n",
              "       -0.61206812,  0.31909792,  0.57955491,  0.8050974 , -0.76920094,\n",
              "       -1.59843811, -0.83939349,  0.66982812,  0.46948492,  0.37278007,\n",
              "        1.27237889, -1.19558093, -0.11574568,  0.60940011, -1.42596405,\n",
              "       -0.20900684,  1.52352749,  2.0127666 ,  0.27665491,  1.244516  ,\n",
              "        0.23289548, -0.45549042, -2.36838244, -1.08608888, -2.46921751,\n",
              "        1.02346329,  0.08655323,  0.75088476, -1.38354441, -1.30553199,\n",
              "       -0.68401991, -1.29435915,  0.24601631, -0.41520435,  0.1467382 ,\n",
              "        0.0726751 ,  0.36105483,  1.32291617,  0.75457352,  0.36736393,\n",
              "        0.17885148,  1.13572152,  0.97724747,  0.77128318, -0.22094686,\n",
              "        0.78285406,  0.68957863,  0.20566229,  0.63743992,  0.36528381,\n",
              "        1.25494639, -1.01096315, -1.36780904,  0.58445615, -0.44602887,\n",
              "       -0.11368828,  0.62218491,  0.37103205, -0.91794073, -0.03203936,\n",
              "       -0.36939061, -0.26852006, -1.24635218,  0.39962394, -0.11639258,\n",
              "       -2.28056881, -0.19115875,  0.93917452, -0.92623397, -0.47996868,\n",
              "        1.12641022,  0.07013708, -1.05558227,  0.88808965, -3.11797137,\n",
              "       -0.63583804, -0.03904466, -0.2498068 , -0.51424014, -0.54540468,\n",
              "        0.7751149 ,  0.73586512,  0.09457617, -0.3925695 ,  1.10777475,\n",
              "        0.56308855, -0.12005496,  0.902012  , -0.60805252, -0.70673969])"
            ]
          },
          "metadata": {
            "tags": []
          },
          "execution_count": 14
        }
      ]
    },
    {
      "cell_type": "code",
      "metadata": {
        "id": "GFHJNFsmkDEJ",
        "outputId": "0c84d35f-4a7a-461b-d963-7894f0c05ced",
        "colab": {
          "base_uri": "https://localhost:8080/",
          "height": 52
        }
      },
      "source": [
        "##[posição inicial:quantidade de item a partir da posição inicial]\n",
        "arr3[0:10]"
      ],
      "execution_count": 24,
      "outputs": [
        {
          "output_type": "execute_result",
          "data": {
            "text/plain": [
              "array([-1.02384652,  0.07198466,  1.31166362, -1.19518194, -1.15487175,\n",
              "        0.27017521,  1.48413725, -1.45487085,  0.92202835, -0.02736363])"
            ]
          },
          "metadata": {
            "tags": []
          },
          "execution_count": 24
        }
      ]
    },
    {
      "cell_type": "code",
      "metadata": {
        "id": "Y7k8LULmk7kG",
        "outputId": "4f118d49-d48e-4e8e-a4d7-0a2aaa646b85",
        "colab": {
          "base_uri": "https://localhost:8080/",
          "height": 34
        }
      },
      "source": [
        "arr3[-1]"
      ],
      "execution_count": 21,
      "outputs": [
        {
          "output_type": "execute_result",
          "data": {
            "text/plain": [
              "-0.7067396907736083"
            ]
          },
          "metadata": {
            "tags": []
          },
          "execution_count": 21
        }
      ]
    },
    {
      "cell_type": "code",
      "metadata": {
        "id": "kpKVp_3Sl_kr",
        "outputId": "42a5d3ce-52f2-41e2-e567-0aac61a1670d",
        "colab": {
          "base_uri": "https://localhost:8080/",
          "height": 34
        }
      },
      "source": [
        "arr4 =[arr3[0],arr3[-1]]\n",
        "arr4"
      ],
      "execution_count": 23,
      "outputs": [
        {
          "output_type": "execute_result",
          "data": {
            "text/plain": [
              "[-1.0238465245207728, -0.7067396907736083]"
            ]
          },
          "metadata": {
            "tags": []
          },
          "execution_count": 23
        }
      ]
    },
    {
      "cell_type": "code",
      "metadata": {
        "id": "a6Z8SBfmmIcq",
        "outputId": "42707369-1927-4fed-90bf-efe91a5f6729",
        "colab": {
          "base_uri": "https://localhost:8080/",
          "height": 86
        }
      },
      "source": [
        "arr3 = np.random.rand(4,4)\n",
        "arr3"
      ],
      "execution_count": 27,
      "outputs": [
        {
          "output_type": "execute_result",
          "data": {
            "text/plain": [
              "array([[0.88341808, 0.86091225, 0.81099437, 0.3347422 ],\n",
              "       [0.15982972, 0.1666741 , 0.71300271, 0.36621853],\n",
              "       [0.73723192, 0.5805197 , 0.17135929, 0.05357277],\n",
              "       [0.2511231 , 0.17662121, 0.15303289, 0.35364129]])"
            ]
          },
          "metadata": {
            "tags": []
          },
          "execution_count": 27
        }
      ]
    },
    {
      "cell_type": "code",
      "metadata": {
        "id": "cWY7Jv_RmnsK",
        "outputId": "5abc348f-f750-41b6-c542-d471045384a6",
        "colab": {
          "base_uri": "https://localhost:8080/",
          "height": 34
        }
      },
      "source": [
        "arr3[1,1]"
      ],
      "execution_count": 29,
      "outputs": [
        {
          "output_type": "execute_result",
          "data": {
            "text/plain": [
              "0.1666740999445624"
            ]
          },
          "metadata": {
            "tags": []
          },
          "execution_count": 29
        }
      ]
    },
    {
      "cell_type": "code",
      "metadata": {
        "id": "X5QtN76xm_tH"
      },
      "source": [
        "import math as mt"
      ],
      "execution_count": 30,
      "outputs": []
    },
    {
      "cell_type": "code",
      "metadata": {
        "id": "-NsPP405n49c",
        "outputId": "86b4d9ab-86f9-454e-db18-5758122dcc70",
        "colab": {
          "base_uri": "https://localhost:8080/",
          "height": 34
        }
      },
      "source": [
        "np.mean(arr3)"
      ],
      "execution_count": 31,
      "outputs": [
        {
          "output_type": "execute_result",
          "data": {
            "text/plain": [
              "0.4233058832314155"
            ]
          },
          "metadata": {
            "tags": []
          },
          "execution_count": 31
        }
      ]
    },
    {
      "cell_type": "code",
      "metadata": {
        "id": "v-V2Rhrun8z0",
        "outputId": "51a39a68-4d70-4b7a-9d10-260f035a6496",
        "colab": {
          "base_uri": "https://localhost:8080/",
          "height": 34
        }
      },
      "source": [
        "np.std(arr3)"
      ],
      "execution_count": 32,
      "outputs": [
        {
          "output_type": "execute_result",
          "data": {
            "text/plain": [
              "0.2823625239860823"
            ]
          },
          "metadata": {
            "tags": []
          },
          "execution_count": 32
        }
      ]
    },
    {
      "cell_type": "code",
      "metadata": {
        "id": "5mcfKlYOn_1U",
        "outputId": "5176afd8-b7a3-4061-9f41-d1b468bd3fc8",
        "colab": {
          "base_uri": "https://localhost:8080/",
          "height": 34
        }
      },
      "source": [
        "arr6 = np.random.randn(10000)\n",
        "np.mean(arr6)"
      ],
      "execution_count": 36,
      "outputs": [
        {
          "output_type": "execute_result",
          "data": {
            "text/plain": [
              "-0.00179695408771749"
            ]
          },
          "metadata": {
            "tags": []
          },
          "execution_count": 36
        }
      ]
    },
    {
      "cell_type": "code",
      "metadata": {
        "id": "kA9otya2ozKJ",
        "outputId": "580f684d-60d5-4418-e513-ad9000b5a034",
        "colab": {
          "base_uri": "https://localhost:8080/",
          "height": 104
        }
      },
      "source": [
        "arr7 = np.random.randn(5,5)\n",
        "arr7"
      ],
      "execution_count": 50,
      "outputs": [
        {
          "output_type": "execute_result",
          "data": {
            "text/plain": [
              "array([[ 1.03929638,  0.3787928 , -0.83192243, -0.45767824, -0.09345049],\n",
              "       [ 1.77364062, -0.55846241,  0.48820871,  1.14813805, -0.37312139],\n",
              "       [-0.91040782,  0.13818095, -0.3714565 , -1.29293079, -1.24001333],\n",
              "       [-2.40959293,  1.4861805 , -0.00331791, -0.56941025,  0.21121826],\n",
              "       [-2.5588389 ,  1.21085272,  1.13428557, -1.12935022,  0.27580322]])"
            ]
          },
          "metadata": {
            "tags": []
          },
          "execution_count": 50
        }
      ]
    },
    {
      "cell_type": "code",
      "metadata": {
        "id": "SIsqCjhzpQ_X",
        "outputId": "73565622-aab9-48ef-a791-4556903c8b54",
        "colab": {
          "base_uri": "https://localhost:8080/",
          "height": 69
        }
      },
      "source": [
        "#linha e coluna\n",
        "arr7[0:3,1:3]"
      ],
      "execution_count": 69,
      "outputs": [
        {
          "output_type": "execute_result",
          "data": {
            "text/plain": [
              "array([[ 0.3787928 , -0.83192243],\n",
              "       [-0.55846241,  0.48820871],\n",
              "       [ 0.13818095, -0.3714565 ]])"
            ]
          },
          "metadata": {
            "tags": []
          },
          "execution_count": 69
        }
      ]
    },
    {
      "cell_type": "code",
      "metadata": {
        "id": "D8mYVuqDp1aV",
        "outputId": "a56af60f-9427-4944-a1c0-321fa5a1d6e4",
        "colab": {
          "base_uri": "https://localhost:8080/",
          "height": 69
        }
      },
      "source": [
        "#[indice:quantas colunas quero]\n",
        "arr7[2:5,2:5]"
      ],
      "execution_count": 71,
      "outputs": [
        {
          "output_type": "execute_result",
          "data": {
            "text/plain": [
              "array([[-0.3714565 , -1.29293079, -1.24001333],\n",
              "       [-0.00331791, -0.56941025,  0.21121826],\n",
              "       [ 1.13428557, -1.12935022,  0.27580322]])"
            ]
          },
          "metadata": {
            "tags": []
          },
          "execution_count": 71
        }
      ]
    },
    {
      "cell_type": "code",
      "metadata": {
        "id": "VcbZ1docsdSk",
        "outputId": "cf30a002-9eb9-4eee-ba7e-9ceb5fdc4c50",
        "colab": {
          "base_uri": "https://localhost:8080/",
          "height": 34
        }
      },
      "source": [
        "arr7[2:3]"
      ],
      "execution_count": 77,
      "outputs": [
        {
          "output_type": "execute_result",
          "data": {
            "text/plain": [
              "array([[-0.91040782,  0.13818095, -0.3714565 , -1.29293079, -1.24001333]])"
            ]
          },
          "metadata": {
            "tags": []
          },
          "execution_count": 77
        }
      ]
    },
    {
      "cell_type": "code",
      "metadata": {
        "id": "zUjZaWhCuPxH",
        "outputId": "090275c2-0f4f-4e89-a1c3-28482b3d8370",
        "colab": {
          "base_uri": "https://localhost:8080/",
          "height": 100
        }
      },
      "source": [
        "arr7[:,2:3]"
      ],
      "execution_count": 78,
      "outputs": [
        {
          "output_type": "execute_result",
          "data": {
            "text/plain": [
              "array([[-0.83192243],\n",
              "       [ 0.48820871],\n",
              "       [-0.3714565 ],\n",
              "       [-0.00331791],\n",
              "       [ 1.13428557]])"
            ]
          },
          "metadata": {
            "tags": []
          },
          "execution_count": 78
        }
      ]
    },
    {
      "cell_type": "code",
      "metadata": {
        "id": "wKsXIGIzvTlt"
      },
      "source": [
        "arr71 = arr7[2:3]"
      ],
      "execution_count": 79,
      "outputs": []
    },
    {
      "cell_type": "code",
      "metadata": {
        "id": "G-vRHA1DwUQn"
      },
      "source": [
        "arr72 = arr7[:,2:3]"
      ],
      "execution_count": 80,
      "outputs": []
    },
    {
      "cell_type": "code",
      "metadata": {
        "id": "LwWx63G_wYJm",
        "outputId": "a6039521-ab52-43eb-fc95-0c406b5c0db5",
        "colab": {
          "base_uri": "https://localhost:8080/",
          "height": 50
        }
      },
      "source": [
        "np.append(arr71,arr72)"
      ],
      "execution_count": 81,
      "outputs": [
        {
          "output_type": "execute_result",
          "data": {
            "text/plain": [
              "array([-0.91040782,  0.13818095, -0.3714565 , -1.29293079, -1.24001333,\n",
              "       -0.83192243,  0.48820871, -0.3714565 , -0.00331791,  1.13428557])"
            ]
          },
          "metadata": {
            "tags": []
          },
          "execution_count": 81
        }
      ]
    },
    {
      "cell_type": "code",
      "metadata": {
        "id": "YTsqdENHwe9-",
        "outputId": "30407c7e-b7a6-4f9f-cd8b-0e9a3cf87d5a",
        "colab": {
          "base_uri": "https://localhost:8080/",
          "height": 217
        }
      },
      "source": [
        "arr8 = np.random.randn(6,6)\n",
        "arr8"
      ],
      "execution_count": 84,
      "outputs": [
        {
          "output_type": "execute_result",
          "data": {
            "text/plain": [
              "array([[ 0.17595047, -0.46400418, -0.14878971,  0.05141086,  0.46815575,\n",
              "        -0.37198523],\n",
              "       [ 1.58786354, -1.59653459,  1.00733449, -1.20395819,  0.14331394,\n",
              "         0.27000349],\n",
              "       [-1.95690437,  0.86448982,  1.00807034,  0.76752396,  0.27534839,\n",
              "         0.05644369],\n",
              "       [-1.00611074,  0.75805155, -2.1296968 , -1.33495405,  1.90298629,\n",
              "        -0.23900619],\n",
              "       [-0.61637267,  1.22298605, -0.98632522,  0.27776388,  1.26263451,\n",
              "        -0.8791963 ],\n",
              "       [ 0.37372154,  0.07208375, -0.2599208 ,  0.25160064, -0.97166685,\n",
              "        -0.88585812]])"
            ]
          },
          "metadata": {
            "tags": []
          },
          "execution_count": 84
        }
      ]
    },
    {
      "cell_type": "code",
      "metadata": {
        "id": "XUIwp5a6zDHu",
        "outputId": "2e090f9c-4356-4efb-fe95-ab502240be04",
        "colab": {
          "base_uri": "https://localhost:8080/",
          "height": 217
        }
      },
      "source": [
        "arr8[0,0] = 0\n",
        "arr8"
      ],
      "execution_count": 85,
      "outputs": [
        {
          "output_type": "execute_result",
          "data": {
            "text/plain": [
              "array([[ 0.        , -0.46400418, -0.14878971,  0.05141086,  0.46815575,\n",
              "        -0.37198523],\n",
              "       [ 1.58786354, -1.59653459,  1.00733449, -1.20395819,  0.14331394,\n",
              "         0.27000349],\n",
              "       [-1.95690437,  0.86448982,  1.00807034,  0.76752396,  0.27534839,\n",
              "         0.05644369],\n",
              "       [-1.00611074,  0.75805155, -2.1296968 , -1.33495405,  1.90298629,\n",
              "        -0.23900619],\n",
              "       [-0.61637267,  1.22298605, -0.98632522,  0.27776388,  1.26263451,\n",
              "        -0.8791963 ],\n",
              "       [ 0.37372154,  0.07208375, -0.2599208 ,  0.25160064, -0.97166685,\n",
              "        -0.88585812]])"
            ]
          },
          "metadata": {
            "tags": []
          },
          "execution_count": 85
        }
      ]
    },
    {
      "cell_type": "code",
      "metadata": {
        "id": "BPoqWNWLzP6N",
        "outputId": "e01b6492-dfab-4f69-e44c-7915f9eed88d",
        "colab": {
          "base_uri": "https://localhost:8080/",
          "height": 217
        }
      },
      "source": [
        "arr8[0:2,0:2] = 0\n",
        "arr8"
      ],
      "execution_count": 86,
      "outputs": [
        {
          "output_type": "execute_result",
          "data": {
            "text/plain": [
              "array([[ 0.        ,  0.        , -0.14878971,  0.05141086,  0.46815575,\n",
              "        -0.37198523],\n",
              "       [ 0.        ,  0.        ,  1.00733449, -1.20395819,  0.14331394,\n",
              "         0.27000349],\n",
              "       [-1.95690437,  0.86448982,  1.00807034,  0.76752396,  0.27534839,\n",
              "         0.05644369],\n",
              "       [-1.00611074,  0.75805155, -2.1296968 , -1.33495405,  1.90298629,\n",
              "        -0.23900619],\n",
              "       [-0.61637267,  1.22298605, -0.98632522,  0.27776388,  1.26263451,\n",
              "        -0.8791963 ],\n",
              "       [ 0.37372154,  0.07208375, -0.2599208 ,  0.25160064, -0.97166685,\n",
              "        -0.88585812]])"
            ]
          },
          "metadata": {
            "tags": []
          },
          "execution_count": 86
        }
      ]
    },
    {
      "cell_type": "code",
      "metadata": {
        "id": "4o1x5gTdz0Ej",
        "outputId": "fa943105-a3e1-4bc8-8fa3-a732296cd641",
        "colab": {
          "base_uri": "https://localhost:8080/",
          "height": 33
        }
      },
      "source": [
        "arr10 = np.random.randn(10, 7)\n",
        "arr10"
      ],
      "execution_count": 89,
      "outputs": [
        {
          "output_type": "execute_result",
          "data": {
            "text/plain": [
              "(10, 7)"
            ]
          },
          "metadata": {
            "tags": []
          },
          "execution_count": 89
        }
      ]
    },
    {
      "cell_type": "code",
      "metadata": {
        "id": "N0fysFA80bMZ",
        "outputId": "e78fc032-a69b-43c6-bb1b-76dff4b3f92e",
        "colab": {
          "base_uri": "https://localhost:8080/",
          "height": 134
        }
      },
      "source": [
        "arr10[arr10>0]"
      ],
      "execution_count": 90,
      "outputs": [
        {
          "output_type": "execute_result",
          "data": {
            "text/plain": [
              "array([0.63314799, 0.42451902, 0.83963994, 0.56579489, 1.11293382,\n",
              "       1.7433862 , 0.24269097, 1.08124451, 1.13479996, 1.17616956,\n",
              "       0.19605282, 1.19785951, 1.63054334, 0.52409041, 0.97723849,\n",
              "       0.11853861, 0.02836536, 1.5247277 , 0.0792557 , 0.09727779,\n",
              "       0.69370541, 0.67979384, 0.41577922, 2.20008777, 1.02069508,\n",
              "       0.18366662, 0.96960738, 0.48952841, 1.0631263 , 0.78748273,\n",
              "       1.91461553, 0.19449899])"
            ]
          },
          "metadata": {
            "tags": []
          },
          "execution_count": 90
        }
      ]
    },
    {
      "cell_type": "code",
      "metadata": {
        "id": "Ek0pcU5T0tGI",
        "outputId": "825441a7-6436-4263-e740-430fa8804a34",
        "colab": {
          "base_uri": "https://localhost:8080/",
          "height": 351
        }
      },
      "source": [
        "#Comando booleando substituindo valores\n",
        "arr10[arr10<0] = 0\n",
        "arr10"
      ],
      "execution_count": 93,
      "outputs": [
        {
          "output_type": "execute_result",
          "data": {
            "text/plain": [
              "array([[0.        , 0.63314799, 0.42451902, 0.        , 0.        ,\n",
              "        0.        , 0.        ],\n",
              "       [0.83963994, 0.        , 0.        , 0.        , 0.        ,\n",
              "        0.        , 0.56579489],\n",
              "       [1.11293382, 0.        , 1.7433862 , 0.24269097, 1.08124451,\n",
              "        0.        , 0.        ],\n",
              "       [1.13479996, 0.        , 1.17616956, 0.        , 0.        ,\n",
              "        0.19605282, 1.19785951],\n",
              "       [0.        , 1.63054334, 0.52409041, 0.97723849, 0.        ,\n",
              "        0.11853861, 0.        ],\n",
              "       [0.02836536, 0.        , 0.        , 1.5247277 , 0.0792557 ,\n",
              "        0.09727779, 0.69370541],\n",
              "       [0.        , 0.67979384, 0.        , 0.        , 0.        ,\n",
              "        0.41577922, 0.        ],\n",
              "       [2.20008777, 1.02069508, 0.        , 0.        , 0.        ,\n",
              "        0.        , 0.        ],\n",
              "       [0.18366662, 0.        , 0.        , 0.        , 0.96960738,\n",
              "        0.48952841, 1.0631263 ],\n",
              "       [0.78748273, 0.        , 1.91461553, 0.        , 0.        ,\n",
              "        0.        , 0.19449899]])"
            ]
          },
          "metadata": {
            "tags": []
          },
          "execution_count": 93
        }
      ]
    },
    {
      "cell_type": "code",
      "metadata": {
        "id": "SkkXZAvj04nA",
        "outputId": "3e02a8cd-1a40-4dd1-c0c6-5b776da3d05f",
        "colab": {
          "base_uri": "https://localhost:8080/",
          "height": 184
        }
      },
      "source": [
        "arr10 >0"
      ],
      "execution_count": 94,
      "outputs": [
        {
          "output_type": "execute_result",
          "data": {
            "text/plain": [
              "array([[False,  True,  True, False, False, False, False],\n",
              "       [ True, False, False, False, False, False,  True],\n",
              "       [ True, False,  True,  True,  True, False, False],\n",
              "       [ True, False,  True, False, False,  True,  True],\n",
              "       [False,  True,  True,  True, False,  True, False],\n",
              "       [ True, False, False,  True,  True,  True,  True],\n",
              "       [False,  True, False, False, False,  True, False],\n",
              "       [ True,  True, False, False, False, False, False],\n",
              "       [ True, False, False, False,  True,  True,  True],\n",
              "       [ True, False,  True, False, False, False,  True]])"
            ]
          },
          "metadata": {
            "tags": []
          },
          "execution_count": 94
        }
      ]
    },
    {
      "cell_type": "code",
      "metadata": {
        "id": "HBa6YNrH1fm9",
        "outputId": "3dccf005-700c-43da-9df0-20677a623d2d",
        "colab": {
          "base_uri": "https://localhost:8080/",
          "height": 251
        }
      },
      "source": [
        "arr10 = np.random.randn(7, 7)\n",
        "arrmask = np.array(['Seg','Ter', 'Qua', 'Qui','Sex', 'Sab', 'Dom'])\n",
        "arr10"
      ],
      "execution_count": 126,
      "outputs": [
        {
          "output_type": "execute_result",
          "data": {
            "text/plain": [
              "array([[-0.96938111, -1.53880547, -1.21658835, -1.30406808, -0.73041662,\n",
              "        -0.04908948, -0.53422413],\n",
              "       [ 1.33583646, -1.68080715,  0.65746144, -1.77722022,  1.71292677,\n",
              "         0.6397051 ,  1.17191067],\n",
              "       [-1.07389531,  0.60981162,  1.40784496, -0.64335927,  0.08890418,\n",
              "        -1.23302367, -1.7776463 ],\n",
              "       [-1.52053078, -0.06748091, -0.33678327, -0.9485274 ,  0.15710372,\n",
              "         1.43496216, -0.5089681 ],\n",
              "       [ 0.6455309 , -0.87574278,  0.50237601,  1.3862864 , -0.20345629,\n",
              "         0.25212235, -0.98266291],\n",
              "       [-0.18820975,  1.9027834 , -1.59281699, -0.04524577, -0.8422796 ,\n",
              "         1.47559094,  0.99085345],\n",
              "       [-0.28544479,  0.53712512,  1.65077193,  2.50201926,  0.50133819,\n",
              "        -0.096169  , -1.35682241]])"
            ]
          },
          "metadata": {
            "tags": []
          },
          "execution_count": 126
        }
      ]
    },
    {
      "cell_type": "code",
      "metadata": {
        "id": "bYDEo-cY2gJx",
        "outputId": "4597a98d-c870-47bd-dc5f-4edf1e26aca4",
        "colab": {
          "base_uri": "https://localhost:8080/",
          "height": 33
        }
      },
      "source": [
        "arr10[arrmask == 'Dom']"
      ],
      "execution_count": 120,
      "outputs": [
        {
          "output_type": "execute_result",
          "data": {
            "text/plain": [
              "array([[-1.31328775,  0.63963106,  0.50895245, -1.30923195,  1.4032003 ]])"
            ]
          },
          "metadata": {
            "tags": []
          },
          "execution_count": 120
        }
      ]
    },
    {
      "cell_type": "code",
      "metadata": {
        "id": "cA32NusW2kp6",
        "outputId": "c52b1a02-639c-4876-c4f7-1dba803a470f",
        "colab": {
          "base_uri": "https://localhost:8080/",
          "height": 184
        }
      },
      "source": [
        "#Transpor\n",
        "arr10.T"
      ],
      "execution_count": 121,
      "outputs": [
        {
          "output_type": "execute_result",
          "data": {
            "text/plain": [
              "array([[-0.05389624,  0.48594182,  0.49017718,  0.80912581, -0.18510238,\n",
              "        -0.34231337, -1.31328775],\n",
              "       [-0.94436141, -2.25337444,  1.53612865, -0.11459425, -1.40898167,\n",
              "        -1.12492426,  0.63963106],\n",
              "       [ 1.2469635 ,  1.56518029, -0.78901943,  1.01473059, -0.12968884,\n",
              "        -1.98632525,  0.50895245],\n",
              "       [ 0.99014162,  1.49247215, -0.8771184 ,  0.59337267,  0.68919398,\n",
              "         1.14119844, -1.30923195],\n",
              "       [ 0.59131534, -0.60994297,  0.72028492,  0.46040488, -0.65215388,\n",
              "        -0.44181312,  1.4032003 ]])"
            ]
          },
          "metadata": {
            "tags": []
          },
          "execution_count": 121
        }
      ]
    },
    {
      "cell_type": "code",
      "metadata": {
        "id": "Qg_ZrTaR5mL5",
        "outputId": "67cbc1ba-11c3-4d74-d78e-00e1f6333aa0",
        "colab": {
          "base_uri": "https://localhost:8080/",
          "height": 134
        }
      },
      "source": [
        "#Jogar a mascara para a linha das colunas\n",
        "arr10[:,arrmask == 'Seg']"
      ],
      "execution_count": 127,
      "outputs": [
        {
          "output_type": "execute_result",
          "data": {
            "text/plain": [
              "array([[-0.96938111],\n",
              "       [ 1.33583646],\n",
              "       [-1.07389531],\n",
              "       [-1.52053078],\n",
              "       [ 0.6455309 ],\n",
              "       [-0.18820975],\n",
              "       [-0.28544479]])"
            ]
          },
          "metadata": {
            "tags": []
          },
          "execution_count": 127
        }
      ]
    },
    {
      "cell_type": "code",
      "metadata": {
        "id": "pCQTAIsa5o9E",
        "outputId": "7e6c8c67-172f-4e19-869a-2d5669b163b5",
        "colab": {
          "base_uri": "https://localhost:8080/",
          "height": 184
        }
      },
      "source": [
        "#Exercicio\n",
        "\n",
        "##1 gerar uma matriz de 100 numeros que ocorrem entre o intervalo [10, 100]\n",
        "##2 condensar essa ,atrioz em uma matriz 10 x 10\n",
        "import numpy as np\n",
        "arrvendas = np.random.randint(10, 100, 70)\n",
        "arrvendas = arrvendas.reshape(10, 7)\n",
        "arrvendas"
      ],
      "execution_count": 139,
      "outputs": [
        {
          "output_type": "execute_result",
          "data": {
            "text/plain": [
              "array([[16, 16, 36, 58, 54, 90, 87],\n",
              "       [53, 91, 72, 85, 67, 42, 13],\n",
              "       [87, 45, 59, 93, 84, 54, 14],\n",
              "       [64, 83, 69, 29, 37, 46, 63],\n",
              "       [12, 28, 71, 54, 26, 39, 92],\n",
              "       [55, 35, 13, 18, 78, 40, 43],\n",
              "       [74, 94, 54, 85, 20, 26, 89],\n",
              "       [26, 50, 27, 49, 58, 39, 48],\n",
              "       [89, 54, 41, 92, 21, 72, 56],\n",
              "       [83, 51, 58, 80, 10, 85, 60]])"
            ]
          },
          "metadata": {
            "tags": []
          },
          "execution_count": 139
        }
      ]
    },
    {
      "cell_type": "code",
      "metadata": {
        "id": "QbQuljiEC_Dp",
        "outputId": "da493ed6-3537-4dcf-81fb-9313adc1eff0",
        "colab": {
          "base_uri": "https://localhost:8080/",
          "height": 67
        }
      },
      "source": [
        "##3 criar uma amscara dos dias da semana\n",
        "mask_semana = np.array(['Seg', 'Ter', 'Qua','Qui', 'Sex', 'Sab', 'Dom'])\n",
        "\n",
        "##4 criar uma mascara de 10 vendedores\n",
        "mask_vendedor = np.array(['0-Luis', '1-Juliana', '2-Mariana', '3-Pedro', '4-Alex', '5-Thalita', '6-Joaquim', '7-Joao', '8-Matheus', '9-Marcos'])\n",
        "\n",
        "#5 filtrar a base de vendas pelas mascaras\n"
      ],
      "execution_count": 135,
      "outputs": [
        {
          "output_type": "execute_result",
          "data": {
            "text/plain": [
              "array(['0-Luis', '1-Juliana', '2-Mariana', '3-Pedro', '4-Alex',\n",
              "       '5-Thalita', '6-Joaquim', '7-Joao', '8-Matheus', '9-Marcos'],\n",
              "      dtype='<U9')"
            ]
          },
          "metadata": {
            "tags": []
          },
          "execution_count": 135
        }
      ]
    },
    {
      "cell_type": "code",
      "metadata": {
        "id": "_r0OgcFYDU-e",
        "outputId": "1c09bbb5-43f9-4e7d-8181-5ab8576da90b",
        "colab": {
          "base_uri": "https://localhost:8080/",
          "height": 33
        }
      },
      "source": [
        "mask_semana"
      ],
      "execution_count": 136,
      "outputs": [
        {
          "output_type": "execute_result",
          "data": {
            "text/plain": [
              "array(['Seg', 'Ter', 'Qua', 'Qui', 'Sex', 'Sab', 'Dom'], dtype='<U3')"
            ]
          },
          "metadata": {
            "tags": []
          },
          "execution_count": 136
        }
      ]
    },
    {
      "cell_type": "code",
      "metadata": {
        "id": "pRW8_ws-Gd_l",
        "outputId": "bc322b3c-9a24-48c8-fd87-01c0103da07e",
        "colab": {
          "base_uri": "https://localhost:8080/",
          "height": 67
        }
      },
      "source": [
        "mask_vendedor"
      ],
      "execution_count": 137,
      "outputs": [
        {
          "output_type": "execute_result",
          "data": {
            "text/plain": [
              "array(['0-Luis', '1-Juliana', '2-Mariana', '3-Pedro', '4-Alex',\n",
              "       '5-Thalita', '6-Joaquim', '7-Joao', '8-Matheus', '9-Marcos'],\n",
              "      dtype='<U9')"
            ]
          },
          "metadata": {
            "tags": []
          },
          "execution_count": 137
        }
      ]
    },
    {
      "cell_type": "code",
      "metadata": {
        "id": "ZBQeWPgvGfws",
        "outputId": "f42b442a-ed65-4d41-dd51-364cb7d4c5ab",
        "colab": {
          "base_uri": "https://localhost:8080/",
          "height": 33
        }
      },
      "source": [
        "np.sum(arrvendas[mask_vendedor == '0-Luis'])"
      ],
      "execution_count": 143,
      "outputs": [
        {
          "output_type": "execute_result",
          "data": {
            "text/plain": [
              "357"
            ]
          },
          "metadata": {
            "tags": []
          },
          "execution_count": 143
        }
      ]
    },
    {
      "cell_type": "code",
      "metadata": {
        "id": "GODC3o6NGjgD",
        "outputId": "fa287fca-ef2c-4321-f411-693ef5964d2a",
        "colab": {
          "base_uri": "https://localhost:8080/",
          "height": 33
        }
      },
      "source": [
        "np.sum(arrvendas[:,mask_semana == 'Seg'])"
      ],
      "execution_count": 145,
      "outputs": [
        {
          "output_type": "execute_result",
          "data": {
            "text/plain": [
              "559"
            ]
          },
          "metadata": {
            "tags": []
          },
          "execution_count": 145
        }
      ]
    },
    {
      "cell_type": "code",
      "metadata": {
        "id": "EhQr8fAHHDrq",
        "outputId": "2e6c296f-a447-4c94-a772-6cac6f42615b",
        "colab": {
          "base_uri": "https://localhost:8080/",
          "height": 33
        }
      },
      "source": [
        "arrvendas[mask_vendedor == '2-Mariana',mask_semana == 'Qui']"
      ],
      "execution_count": 150,
      "outputs": [
        {
          "output_type": "execute_result",
          "data": {
            "text/plain": [
              "array([93])"
            ]
          },
          "metadata": {
            "tags": []
          },
          "execution_count": 150
        }
      ]
    },
    {
      "cell_type": "code",
      "metadata": {
        "id": "ZlwknIvQJAxT",
        "outputId": "2599bf27-9036-44e3-ece1-2db7c02a6cbd",
        "colab": {
          "base_uri": "https://localhost:8080/",
          "height": 33
        }
      },
      "source": [
        "np.max(arrvendas)"
      ],
      "execution_count": 151,
      "outputs": [
        {
          "output_type": "execute_result",
          "data": {
            "text/plain": [
              "94"
            ]
          },
          "metadata": {
            "tags": []
          },
          "execution_count": 151
        }
      ]
    },
    {
      "cell_type": "code",
      "metadata": {
        "id": "CHT0ajzoKqcf",
        "outputId": "c9997d20-b821-48a8-db9e-4bb717ac40ec",
        "colab": {
          "base_uri": "https://localhost:8080/",
          "height": 33
        }
      },
      "source": [
        "np.min(arrvendas)"
      ],
      "execution_count": 152,
      "outputs": [
        {
          "output_type": "execute_result",
          "data": {
            "text/plain": [
              "10"
            ]
          },
          "metadata": {
            "tags": []
          },
          "execution_count": 152
        }
      ]
    },
    {
      "cell_type": "code",
      "metadata": {
        "id": "ZDygPIJ0Kv81",
        "outputId": "1c291e1b-ad89-4bdd-b6fe-b852f1bb8541",
        "colab": {
          "base_uri": "https://localhost:8080/",
          "height": 351
        }
      },
      "source": [
        "np.sqrt(arrvendas)"
      ],
      "execution_count": 153,
      "outputs": [
        {
          "output_type": "execute_result",
          "data": {
            "text/plain": [
              "array([[4.        , 4.        , 6.        , 7.61577311, 7.34846923,\n",
              "        9.48683298, 9.32737905],\n",
              "       [7.28010989, 9.53939201, 8.48528137, 9.21954446, 8.18535277,\n",
              "        6.4807407 , 3.60555128],\n",
              "       [9.32737905, 6.70820393, 7.68114575, 9.64365076, 9.16515139,\n",
              "        7.34846923, 3.74165739],\n",
              "       [8.        , 9.11043358, 8.30662386, 5.38516481, 6.08276253,\n",
              "        6.78232998, 7.93725393],\n",
              "       [3.46410162, 5.29150262, 8.42614977, 7.34846923, 5.09901951,\n",
              "        6.244998  , 9.59166305],\n",
              "       [7.41619849, 5.91607978, 3.60555128, 4.24264069, 8.83176087,\n",
              "        6.32455532, 6.55743852],\n",
              "       [8.60232527, 9.69535971, 7.34846923, 9.21954446, 4.47213595,\n",
              "        5.09901951, 9.43398113],\n",
              "       [5.09901951, 7.07106781, 5.19615242, 7.        , 7.61577311,\n",
              "        6.244998  , 6.92820323],\n",
              "       [9.43398113, 7.34846923, 6.40312424, 9.59166305, 4.58257569,\n",
              "        8.48528137, 7.48331477],\n",
              "       [9.11043358, 7.14142843, 7.61577311, 8.94427191, 3.16227766,\n",
              "        9.21954446, 7.74596669]])"
            ]
          },
          "metadata": {
            "tags": []
          },
          "execution_count": 153
        }
      ]
    },
    {
      "cell_type": "code",
      "metadata": {
        "id": "dLzQvvA_K7vM"
      },
      "source": [
        "##np.abs\n",
        "##np.sqrt\n",
        "##np.square\n",
        "##np.exp\n",
        "##np.log\n",
        "##np.ceil\n",
        "##np.floor\n",
        "##np.isfinite\n",
        "##np.isnan\n",
        "##np.cos\n",
        "\n",
        "##np.add\n",
        "##np.subtract\n",
        "##np.power\n",
        "##np.maximum\n",
        "##np.minimum\n",
        "##np.mod"
      ],
      "execution_count": null,
      "outputs": []
    },
    {
      "cell_type": "code",
      "metadata": {
        "id": "90CWnoXwMM8l",
        "outputId": "6deb215c-0dde-4608-a276-533c8a43c3f0",
        "colab": {
          "base_uri": "https://localhost:8080/",
          "height": 184
        }
      },
      "source": [
        "#pega cada elemento do array e eleva ao numero inserido, no caso 2 que é ao quadrado\n",
        "np.power(arrvendas, 2)"
      ],
      "execution_count": 155,
      "outputs": [
        {
          "output_type": "execute_result",
          "data": {
            "text/plain": [
              "array([[ 256,  256, 1296, 3364, 2916, 8100, 7569],\n",
              "       [2809, 8281, 5184, 7225, 4489, 1764,  169],\n",
              "       [7569, 2025, 3481, 8649, 7056, 2916,  196],\n",
              "       [4096, 6889, 4761,  841, 1369, 2116, 3969],\n",
              "       [ 144,  784, 5041, 2916,  676, 1521, 8464],\n",
              "       [3025, 1225,  169,  324, 6084, 1600, 1849],\n",
              "       [5476, 8836, 2916, 7225,  400,  676, 7921],\n",
              "       [ 676, 2500,  729, 2401, 3364, 1521, 2304],\n",
              "       [7921, 2916, 1681, 8464,  441, 5184, 3136],\n",
              "       [6889, 2601, 3364, 6400,  100, 7225, 3600]])"
            ]
          },
          "metadata": {
            "tags": []
          },
          "execution_count": 155
        }
      ]
    },
    {
      "cell_type": "code",
      "metadata": {
        "id": "Qnivd3qCMX4o",
        "outputId": "e0c6a3c2-c488-4ac6-d460-dadbffa5957d",
        "colab": {
          "base_uri": "https://localhost:8080/",
          "height": 1000
        }
      },
      "source": [
        "points = np.arange(-5, 5, 0.01)\n",
        "points"
      ],
      "execution_count": 159,
      "outputs": [
        {
          "output_type": "execute_result",
          "data": {
            "text/plain": [
              "array([-5.0000000e+00, -4.9900000e+00, -4.9800000e+00, -4.9700000e+00,\n",
              "       -4.9600000e+00, -4.9500000e+00, -4.9400000e+00, -4.9300000e+00,\n",
              "       -4.9200000e+00, -4.9100000e+00, -4.9000000e+00, -4.8900000e+00,\n",
              "       -4.8800000e+00, -4.8700000e+00, -4.8600000e+00, -4.8500000e+00,\n",
              "       -4.8400000e+00, -4.8300000e+00, -4.8200000e+00, -4.8100000e+00,\n",
              "       -4.8000000e+00, -4.7900000e+00, -4.7800000e+00, -4.7700000e+00,\n",
              "       -4.7600000e+00, -4.7500000e+00, -4.7400000e+00, -4.7300000e+00,\n",
              "       -4.7200000e+00, -4.7100000e+00, -4.7000000e+00, -4.6900000e+00,\n",
              "       -4.6800000e+00, -4.6700000e+00, -4.6600000e+00, -4.6500000e+00,\n",
              "       -4.6400000e+00, -4.6300000e+00, -4.6200000e+00, -4.6100000e+00,\n",
              "       -4.6000000e+00, -4.5900000e+00, -4.5800000e+00, -4.5700000e+00,\n",
              "       -4.5600000e+00, -4.5500000e+00, -4.5400000e+00, -4.5300000e+00,\n",
              "       -4.5200000e+00, -4.5100000e+00, -4.5000000e+00, -4.4900000e+00,\n",
              "       -4.4800000e+00, -4.4700000e+00, -4.4600000e+00, -4.4500000e+00,\n",
              "       -4.4400000e+00, -4.4300000e+00, -4.4200000e+00, -4.4100000e+00,\n",
              "       -4.4000000e+00, -4.3900000e+00, -4.3800000e+00, -4.3700000e+00,\n",
              "       -4.3600000e+00, -4.3500000e+00, -4.3400000e+00, -4.3300000e+00,\n",
              "       -4.3200000e+00, -4.3100000e+00, -4.3000000e+00, -4.2900000e+00,\n",
              "       -4.2800000e+00, -4.2700000e+00, -4.2600000e+00, -4.2500000e+00,\n",
              "       -4.2400000e+00, -4.2300000e+00, -4.2200000e+00, -4.2100000e+00,\n",
              "       -4.2000000e+00, -4.1900000e+00, -4.1800000e+00, -4.1700000e+00,\n",
              "       -4.1600000e+00, -4.1500000e+00, -4.1400000e+00, -4.1300000e+00,\n",
              "       -4.1200000e+00, -4.1100000e+00, -4.1000000e+00, -4.0900000e+00,\n",
              "       -4.0800000e+00, -4.0700000e+00, -4.0600000e+00, -4.0500000e+00,\n",
              "       -4.0400000e+00, -4.0300000e+00, -4.0200000e+00, -4.0100000e+00,\n",
              "       -4.0000000e+00, -3.9900000e+00, -3.9800000e+00, -3.9700000e+00,\n",
              "       -3.9600000e+00, -3.9500000e+00, -3.9400000e+00, -3.9300000e+00,\n",
              "       -3.9200000e+00, -3.9100000e+00, -3.9000000e+00, -3.8900000e+00,\n",
              "       -3.8800000e+00, -3.8700000e+00, -3.8600000e+00, -3.8500000e+00,\n",
              "       -3.8400000e+00, -3.8300000e+00, -3.8200000e+00, -3.8100000e+00,\n",
              "       -3.8000000e+00, -3.7900000e+00, -3.7800000e+00, -3.7700000e+00,\n",
              "       -3.7600000e+00, -3.7500000e+00, -3.7400000e+00, -3.7300000e+00,\n",
              "       -3.7200000e+00, -3.7100000e+00, -3.7000000e+00, -3.6900000e+00,\n",
              "       -3.6800000e+00, -3.6700000e+00, -3.6600000e+00, -3.6500000e+00,\n",
              "       -3.6400000e+00, -3.6300000e+00, -3.6200000e+00, -3.6100000e+00,\n",
              "       -3.6000000e+00, -3.5900000e+00, -3.5800000e+00, -3.5700000e+00,\n",
              "       -3.5600000e+00, -3.5500000e+00, -3.5400000e+00, -3.5300000e+00,\n",
              "       -3.5200000e+00, -3.5100000e+00, -3.5000000e+00, -3.4900000e+00,\n",
              "       -3.4800000e+00, -3.4700000e+00, -3.4600000e+00, -3.4500000e+00,\n",
              "       -3.4400000e+00, -3.4300000e+00, -3.4200000e+00, -3.4100000e+00,\n",
              "       -3.4000000e+00, -3.3900000e+00, -3.3800000e+00, -3.3700000e+00,\n",
              "       -3.3600000e+00, -3.3500000e+00, -3.3400000e+00, -3.3300000e+00,\n",
              "       -3.3200000e+00, -3.3100000e+00, -3.3000000e+00, -3.2900000e+00,\n",
              "       -3.2800000e+00, -3.2700000e+00, -3.2600000e+00, -3.2500000e+00,\n",
              "       -3.2400000e+00, -3.2300000e+00, -3.2200000e+00, -3.2100000e+00,\n",
              "       -3.2000000e+00, -3.1900000e+00, -3.1800000e+00, -3.1700000e+00,\n",
              "       -3.1600000e+00, -3.1500000e+00, -3.1400000e+00, -3.1300000e+00,\n",
              "       -3.1200000e+00, -3.1100000e+00, -3.1000000e+00, -3.0900000e+00,\n",
              "       -3.0800000e+00, -3.0700000e+00, -3.0600000e+00, -3.0500000e+00,\n",
              "       -3.0400000e+00, -3.0300000e+00, -3.0200000e+00, -3.0100000e+00,\n",
              "       -3.0000000e+00, -2.9900000e+00, -2.9800000e+00, -2.9700000e+00,\n",
              "       -2.9600000e+00, -2.9500000e+00, -2.9400000e+00, -2.9300000e+00,\n",
              "       -2.9200000e+00, -2.9100000e+00, -2.9000000e+00, -2.8900000e+00,\n",
              "       -2.8800000e+00, -2.8700000e+00, -2.8600000e+00, -2.8500000e+00,\n",
              "       -2.8400000e+00, -2.8300000e+00, -2.8200000e+00, -2.8100000e+00,\n",
              "       -2.8000000e+00, -2.7900000e+00, -2.7800000e+00, -2.7700000e+00,\n",
              "       -2.7600000e+00, -2.7500000e+00, -2.7400000e+00, -2.7300000e+00,\n",
              "       -2.7200000e+00, -2.7100000e+00, -2.7000000e+00, -2.6900000e+00,\n",
              "       -2.6800000e+00, -2.6700000e+00, -2.6600000e+00, -2.6500000e+00,\n",
              "       -2.6400000e+00, -2.6300000e+00, -2.6200000e+00, -2.6100000e+00,\n",
              "       -2.6000000e+00, -2.5900000e+00, -2.5800000e+00, -2.5700000e+00,\n",
              "       -2.5600000e+00, -2.5500000e+00, -2.5400000e+00, -2.5300000e+00,\n",
              "       -2.5200000e+00, -2.5100000e+00, -2.5000000e+00, -2.4900000e+00,\n",
              "       -2.4800000e+00, -2.4700000e+00, -2.4600000e+00, -2.4500000e+00,\n",
              "       -2.4400000e+00, -2.4300000e+00, -2.4200000e+00, -2.4100000e+00,\n",
              "       -2.4000000e+00, -2.3900000e+00, -2.3800000e+00, -2.3700000e+00,\n",
              "       -2.3600000e+00, -2.3500000e+00, -2.3400000e+00, -2.3300000e+00,\n",
              "       -2.3200000e+00, -2.3100000e+00, -2.3000000e+00, -2.2900000e+00,\n",
              "       -2.2800000e+00, -2.2700000e+00, -2.2600000e+00, -2.2500000e+00,\n",
              "       -2.2400000e+00, -2.2300000e+00, -2.2200000e+00, -2.2100000e+00,\n",
              "       -2.2000000e+00, -2.1900000e+00, -2.1800000e+00, -2.1700000e+00,\n",
              "       -2.1600000e+00, -2.1500000e+00, -2.1400000e+00, -2.1300000e+00,\n",
              "       -2.1200000e+00, -2.1100000e+00, -2.1000000e+00, -2.0900000e+00,\n",
              "       -2.0800000e+00, -2.0700000e+00, -2.0600000e+00, -2.0500000e+00,\n",
              "       -2.0400000e+00, -2.0300000e+00, -2.0200000e+00, -2.0100000e+00,\n",
              "       -2.0000000e+00, -1.9900000e+00, -1.9800000e+00, -1.9700000e+00,\n",
              "       -1.9600000e+00, -1.9500000e+00, -1.9400000e+00, -1.9300000e+00,\n",
              "       -1.9200000e+00, -1.9100000e+00, -1.9000000e+00, -1.8900000e+00,\n",
              "       -1.8800000e+00, -1.8700000e+00, -1.8600000e+00, -1.8500000e+00,\n",
              "       -1.8400000e+00, -1.8300000e+00, -1.8200000e+00, -1.8100000e+00,\n",
              "       -1.8000000e+00, -1.7900000e+00, -1.7800000e+00, -1.7700000e+00,\n",
              "       -1.7600000e+00, -1.7500000e+00, -1.7400000e+00, -1.7300000e+00,\n",
              "       -1.7200000e+00, -1.7100000e+00, -1.7000000e+00, -1.6900000e+00,\n",
              "       -1.6800000e+00, -1.6700000e+00, -1.6600000e+00, -1.6500000e+00,\n",
              "       -1.6400000e+00, -1.6300000e+00, -1.6200000e+00, -1.6100000e+00,\n",
              "       -1.6000000e+00, -1.5900000e+00, -1.5800000e+00, -1.5700000e+00,\n",
              "       -1.5600000e+00, -1.5500000e+00, -1.5400000e+00, -1.5300000e+00,\n",
              "       -1.5200000e+00, -1.5100000e+00, -1.5000000e+00, -1.4900000e+00,\n",
              "       -1.4800000e+00, -1.4700000e+00, -1.4600000e+00, -1.4500000e+00,\n",
              "       -1.4400000e+00, -1.4300000e+00, -1.4200000e+00, -1.4100000e+00,\n",
              "       -1.4000000e+00, -1.3900000e+00, -1.3800000e+00, -1.3700000e+00,\n",
              "       -1.3600000e+00, -1.3500000e+00, -1.3400000e+00, -1.3300000e+00,\n",
              "       -1.3200000e+00, -1.3100000e+00, -1.3000000e+00, -1.2900000e+00,\n",
              "       -1.2800000e+00, -1.2700000e+00, -1.2600000e+00, -1.2500000e+00,\n",
              "       -1.2400000e+00, -1.2300000e+00, -1.2200000e+00, -1.2100000e+00,\n",
              "       -1.2000000e+00, -1.1900000e+00, -1.1800000e+00, -1.1700000e+00,\n",
              "       -1.1600000e+00, -1.1500000e+00, -1.1400000e+00, -1.1300000e+00,\n",
              "       -1.1200000e+00, -1.1100000e+00, -1.1000000e+00, -1.0900000e+00,\n",
              "       -1.0800000e+00, -1.0700000e+00, -1.0600000e+00, -1.0500000e+00,\n",
              "       -1.0400000e+00, -1.0300000e+00, -1.0200000e+00, -1.0100000e+00,\n",
              "       -1.0000000e+00, -9.9000000e-01, -9.8000000e-01, -9.7000000e-01,\n",
              "       -9.6000000e-01, -9.5000000e-01, -9.4000000e-01, -9.3000000e-01,\n",
              "       -9.2000000e-01, -9.1000000e-01, -9.0000000e-01, -8.9000000e-01,\n",
              "       -8.8000000e-01, -8.7000000e-01, -8.6000000e-01, -8.5000000e-01,\n",
              "       -8.4000000e-01, -8.3000000e-01, -8.2000000e-01, -8.1000000e-01,\n",
              "       -8.0000000e-01, -7.9000000e-01, -7.8000000e-01, -7.7000000e-01,\n",
              "       -7.6000000e-01, -7.5000000e-01, -7.4000000e-01, -7.3000000e-01,\n",
              "       -7.2000000e-01, -7.1000000e-01, -7.0000000e-01, -6.9000000e-01,\n",
              "       -6.8000000e-01, -6.7000000e-01, -6.6000000e-01, -6.5000000e-01,\n",
              "       -6.4000000e-01, -6.3000000e-01, -6.2000000e-01, -6.1000000e-01,\n",
              "       -6.0000000e-01, -5.9000000e-01, -5.8000000e-01, -5.7000000e-01,\n",
              "       -5.6000000e-01, -5.5000000e-01, -5.4000000e-01, -5.3000000e-01,\n",
              "       -5.2000000e-01, -5.1000000e-01, -5.0000000e-01, -4.9000000e-01,\n",
              "       -4.8000000e-01, -4.7000000e-01, -4.6000000e-01, -4.5000000e-01,\n",
              "       -4.4000000e-01, -4.3000000e-01, -4.2000000e-01, -4.1000000e-01,\n",
              "       -4.0000000e-01, -3.9000000e-01, -3.8000000e-01, -3.7000000e-01,\n",
              "       -3.6000000e-01, -3.5000000e-01, -3.4000000e-01, -3.3000000e-01,\n",
              "       -3.2000000e-01, -3.1000000e-01, -3.0000000e-01, -2.9000000e-01,\n",
              "       -2.8000000e-01, -2.7000000e-01, -2.6000000e-01, -2.5000000e-01,\n",
              "       -2.4000000e-01, -2.3000000e-01, -2.2000000e-01, -2.1000000e-01,\n",
              "       -2.0000000e-01, -1.9000000e-01, -1.8000000e-01, -1.7000000e-01,\n",
              "       -1.6000000e-01, -1.5000000e-01, -1.4000000e-01, -1.3000000e-01,\n",
              "       -1.2000000e-01, -1.1000000e-01, -1.0000000e-01, -9.0000000e-02,\n",
              "       -8.0000000e-02, -7.0000000e-02, -6.0000000e-02, -5.0000000e-02,\n",
              "       -4.0000000e-02, -3.0000000e-02, -2.0000000e-02, -1.0000000e-02,\n",
              "       -1.0658141e-13,  1.0000000e-02,  2.0000000e-02,  3.0000000e-02,\n",
              "        4.0000000e-02,  5.0000000e-02,  6.0000000e-02,  7.0000000e-02,\n",
              "        8.0000000e-02,  9.0000000e-02,  1.0000000e-01,  1.1000000e-01,\n",
              "        1.2000000e-01,  1.3000000e-01,  1.4000000e-01,  1.5000000e-01,\n",
              "        1.6000000e-01,  1.7000000e-01,  1.8000000e-01,  1.9000000e-01,\n",
              "        2.0000000e-01,  2.1000000e-01,  2.2000000e-01,  2.3000000e-01,\n",
              "        2.4000000e-01,  2.5000000e-01,  2.6000000e-01,  2.7000000e-01,\n",
              "        2.8000000e-01,  2.9000000e-01,  3.0000000e-01,  3.1000000e-01,\n",
              "        3.2000000e-01,  3.3000000e-01,  3.4000000e-01,  3.5000000e-01,\n",
              "        3.6000000e-01,  3.7000000e-01,  3.8000000e-01,  3.9000000e-01,\n",
              "        4.0000000e-01,  4.1000000e-01,  4.2000000e-01,  4.3000000e-01,\n",
              "        4.4000000e-01,  4.5000000e-01,  4.6000000e-01,  4.7000000e-01,\n",
              "        4.8000000e-01,  4.9000000e-01,  5.0000000e-01,  5.1000000e-01,\n",
              "        5.2000000e-01,  5.3000000e-01,  5.4000000e-01,  5.5000000e-01,\n",
              "        5.6000000e-01,  5.7000000e-01,  5.8000000e-01,  5.9000000e-01,\n",
              "        6.0000000e-01,  6.1000000e-01,  6.2000000e-01,  6.3000000e-01,\n",
              "        6.4000000e-01,  6.5000000e-01,  6.6000000e-01,  6.7000000e-01,\n",
              "        6.8000000e-01,  6.9000000e-01,  7.0000000e-01,  7.1000000e-01,\n",
              "        7.2000000e-01,  7.3000000e-01,  7.4000000e-01,  7.5000000e-01,\n",
              "        7.6000000e-01,  7.7000000e-01,  7.8000000e-01,  7.9000000e-01,\n",
              "        8.0000000e-01,  8.1000000e-01,  8.2000000e-01,  8.3000000e-01,\n",
              "        8.4000000e-01,  8.5000000e-01,  8.6000000e-01,  8.7000000e-01,\n",
              "        8.8000000e-01,  8.9000000e-01,  9.0000000e-01,  9.1000000e-01,\n",
              "        9.2000000e-01,  9.3000000e-01,  9.4000000e-01,  9.5000000e-01,\n",
              "        9.6000000e-01,  9.7000000e-01,  9.8000000e-01,  9.9000000e-01,\n",
              "        1.0000000e+00,  1.0100000e+00,  1.0200000e+00,  1.0300000e+00,\n",
              "        1.0400000e+00,  1.0500000e+00,  1.0600000e+00,  1.0700000e+00,\n",
              "        1.0800000e+00,  1.0900000e+00,  1.1000000e+00,  1.1100000e+00,\n",
              "        1.1200000e+00,  1.1300000e+00,  1.1400000e+00,  1.1500000e+00,\n",
              "        1.1600000e+00,  1.1700000e+00,  1.1800000e+00,  1.1900000e+00,\n",
              "        1.2000000e+00,  1.2100000e+00,  1.2200000e+00,  1.2300000e+00,\n",
              "        1.2400000e+00,  1.2500000e+00,  1.2600000e+00,  1.2700000e+00,\n",
              "        1.2800000e+00,  1.2900000e+00,  1.3000000e+00,  1.3100000e+00,\n",
              "        1.3200000e+00,  1.3300000e+00,  1.3400000e+00,  1.3500000e+00,\n",
              "        1.3600000e+00,  1.3700000e+00,  1.3800000e+00,  1.3900000e+00,\n",
              "        1.4000000e+00,  1.4100000e+00,  1.4200000e+00,  1.4300000e+00,\n",
              "        1.4400000e+00,  1.4500000e+00,  1.4600000e+00,  1.4700000e+00,\n",
              "        1.4800000e+00,  1.4900000e+00,  1.5000000e+00,  1.5100000e+00,\n",
              "        1.5200000e+00,  1.5300000e+00,  1.5400000e+00,  1.5500000e+00,\n",
              "        1.5600000e+00,  1.5700000e+00,  1.5800000e+00,  1.5900000e+00,\n",
              "        1.6000000e+00,  1.6100000e+00,  1.6200000e+00,  1.6300000e+00,\n",
              "        1.6400000e+00,  1.6500000e+00,  1.6600000e+00,  1.6700000e+00,\n",
              "        1.6800000e+00,  1.6900000e+00,  1.7000000e+00,  1.7100000e+00,\n",
              "        1.7200000e+00,  1.7300000e+00,  1.7400000e+00,  1.7500000e+00,\n",
              "        1.7600000e+00,  1.7700000e+00,  1.7800000e+00,  1.7900000e+00,\n",
              "        1.8000000e+00,  1.8100000e+00,  1.8200000e+00,  1.8300000e+00,\n",
              "        1.8400000e+00,  1.8500000e+00,  1.8600000e+00,  1.8700000e+00,\n",
              "        1.8800000e+00,  1.8900000e+00,  1.9000000e+00,  1.9100000e+00,\n",
              "        1.9200000e+00,  1.9300000e+00,  1.9400000e+00,  1.9500000e+00,\n",
              "        1.9600000e+00,  1.9700000e+00,  1.9800000e+00,  1.9900000e+00,\n",
              "        2.0000000e+00,  2.0100000e+00,  2.0200000e+00,  2.0300000e+00,\n",
              "        2.0400000e+00,  2.0500000e+00,  2.0600000e+00,  2.0700000e+00,\n",
              "        2.0800000e+00,  2.0900000e+00,  2.1000000e+00,  2.1100000e+00,\n",
              "        2.1200000e+00,  2.1300000e+00,  2.1400000e+00,  2.1500000e+00,\n",
              "        2.1600000e+00,  2.1700000e+00,  2.1800000e+00,  2.1900000e+00,\n",
              "        2.2000000e+00,  2.2100000e+00,  2.2200000e+00,  2.2300000e+00,\n",
              "        2.2400000e+00,  2.2500000e+00,  2.2600000e+00,  2.2700000e+00,\n",
              "        2.2800000e+00,  2.2900000e+00,  2.3000000e+00,  2.3100000e+00,\n",
              "        2.3200000e+00,  2.3300000e+00,  2.3400000e+00,  2.3500000e+00,\n",
              "        2.3600000e+00,  2.3700000e+00,  2.3800000e+00,  2.3900000e+00,\n",
              "        2.4000000e+00,  2.4100000e+00,  2.4200000e+00,  2.4300000e+00,\n",
              "        2.4400000e+00,  2.4500000e+00,  2.4600000e+00,  2.4700000e+00,\n",
              "        2.4800000e+00,  2.4900000e+00,  2.5000000e+00,  2.5100000e+00,\n",
              "        2.5200000e+00,  2.5300000e+00,  2.5400000e+00,  2.5500000e+00,\n",
              "        2.5600000e+00,  2.5700000e+00,  2.5800000e+00,  2.5900000e+00,\n",
              "        2.6000000e+00,  2.6100000e+00,  2.6200000e+00,  2.6300000e+00,\n",
              "        2.6400000e+00,  2.6500000e+00,  2.6600000e+00,  2.6700000e+00,\n",
              "        2.6800000e+00,  2.6900000e+00,  2.7000000e+00,  2.7100000e+00,\n",
              "        2.7200000e+00,  2.7300000e+00,  2.7400000e+00,  2.7500000e+00,\n",
              "        2.7600000e+00,  2.7700000e+00,  2.7800000e+00,  2.7900000e+00,\n",
              "        2.8000000e+00,  2.8100000e+00,  2.8200000e+00,  2.8300000e+00,\n",
              "        2.8400000e+00,  2.8500000e+00,  2.8600000e+00,  2.8700000e+00,\n",
              "        2.8800000e+00,  2.8900000e+00,  2.9000000e+00,  2.9100000e+00,\n",
              "        2.9200000e+00,  2.9300000e+00,  2.9400000e+00,  2.9500000e+00,\n",
              "        2.9600000e+00,  2.9700000e+00,  2.9800000e+00,  2.9900000e+00,\n",
              "        3.0000000e+00,  3.0100000e+00,  3.0200000e+00,  3.0300000e+00,\n",
              "        3.0400000e+00,  3.0500000e+00,  3.0600000e+00,  3.0700000e+00,\n",
              "        3.0800000e+00,  3.0900000e+00,  3.1000000e+00,  3.1100000e+00,\n",
              "        3.1200000e+00,  3.1300000e+00,  3.1400000e+00,  3.1500000e+00,\n",
              "        3.1600000e+00,  3.1700000e+00,  3.1800000e+00,  3.1900000e+00,\n",
              "        3.2000000e+00,  3.2100000e+00,  3.2200000e+00,  3.2300000e+00,\n",
              "        3.2400000e+00,  3.2500000e+00,  3.2600000e+00,  3.2700000e+00,\n",
              "        3.2800000e+00,  3.2900000e+00,  3.3000000e+00,  3.3100000e+00,\n",
              "        3.3200000e+00,  3.3300000e+00,  3.3400000e+00,  3.3500000e+00,\n",
              "        3.3600000e+00,  3.3700000e+00,  3.3800000e+00,  3.3900000e+00,\n",
              "        3.4000000e+00,  3.4100000e+00,  3.4200000e+00,  3.4300000e+00,\n",
              "        3.4400000e+00,  3.4500000e+00,  3.4600000e+00,  3.4700000e+00,\n",
              "        3.4800000e+00,  3.4900000e+00,  3.5000000e+00,  3.5100000e+00,\n",
              "        3.5200000e+00,  3.5300000e+00,  3.5400000e+00,  3.5500000e+00,\n",
              "        3.5600000e+00,  3.5700000e+00,  3.5800000e+00,  3.5900000e+00,\n",
              "        3.6000000e+00,  3.6100000e+00,  3.6200000e+00,  3.6300000e+00,\n",
              "        3.6400000e+00,  3.6500000e+00,  3.6600000e+00,  3.6700000e+00,\n",
              "        3.6800000e+00,  3.6900000e+00,  3.7000000e+00,  3.7100000e+00,\n",
              "        3.7200000e+00,  3.7300000e+00,  3.7400000e+00,  3.7500000e+00,\n",
              "        3.7600000e+00,  3.7700000e+00,  3.7800000e+00,  3.7900000e+00,\n",
              "        3.8000000e+00,  3.8100000e+00,  3.8200000e+00,  3.8300000e+00,\n",
              "        3.8400000e+00,  3.8500000e+00,  3.8600000e+00,  3.8700000e+00,\n",
              "        3.8800000e+00,  3.8900000e+00,  3.9000000e+00,  3.9100000e+00,\n",
              "        3.9200000e+00,  3.9300000e+00,  3.9400000e+00,  3.9500000e+00,\n",
              "        3.9600000e+00,  3.9700000e+00,  3.9800000e+00,  3.9900000e+00,\n",
              "        4.0000000e+00,  4.0100000e+00,  4.0200000e+00,  4.0300000e+00,\n",
              "        4.0400000e+00,  4.0500000e+00,  4.0600000e+00,  4.0700000e+00,\n",
              "        4.0800000e+00,  4.0900000e+00,  4.1000000e+00,  4.1100000e+00,\n",
              "        4.1200000e+00,  4.1300000e+00,  4.1400000e+00,  4.1500000e+00,\n",
              "        4.1600000e+00,  4.1700000e+00,  4.1800000e+00,  4.1900000e+00,\n",
              "        4.2000000e+00,  4.2100000e+00,  4.2200000e+00,  4.2300000e+00,\n",
              "        4.2400000e+00,  4.2500000e+00,  4.2600000e+00,  4.2700000e+00,\n",
              "        4.2800000e+00,  4.2900000e+00,  4.3000000e+00,  4.3100000e+00,\n",
              "        4.3200000e+00,  4.3300000e+00,  4.3400000e+00,  4.3500000e+00,\n",
              "        4.3600000e+00,  4.3700000e+00,  4.3800000e+00,  4.3900000e+00,\n",
              "        4.4000000e+00,  4.4100000e+00,  4.4200000e+00,  4.4300000e+00,\n",
              "        4.4400000e+00,  4.4500000e+00,  4.4600000e+00,  4.4700000e+00,\n",
              "        4.4800000e+00,  4.4900000e+00,  4.5000000e+00,  4.5100000e+00,\n",
              "        4.5200000e+00,  4.5300000e+00,  4.5400000e+00,  4.5500000e+00,\n",
              "        4.5600000e+00,  4.5700000e+00,  4.5800000e+00,  4.5900000e+00,\n",
              "        4.6000000e+00,  4.6100000e+00,  4.6200000e+00,  4.6300000e+00,\n",
              "        4.6400000e+00,  4.6500000e+00,  4.6600000e+00,  4.6700000e+00,\n",
              "        4.6800000e+00,  4.6900000e+00,  4.7000000e+00,  4.7100000e+00,\n",
              "        4.7200000e+00,  4.7300000e+00,  4.7400000e+00,  4.7500000e+00,\n",
              "        4.7600000e+00,  4.7700000e+00,  4.7800000e+00,  4.7900000e+00,\n",
              "        4.8000000e+00,  4.8100000e+00,  4.8200000e+00,  4.8300000e+00,\n",
              "        4.8400000e+00,  4.8500000e+00,  4.8600000e+00,  4.8700000e+00,\n",
              "        4.8800000e+00,  4.8900000e+00,  4.9000000e+00,  4.9100000e+00,\n",
              "        4.9200000e+00,  4.9300000e+00,  4.9400000e+00,  4.9500000e+00,\n",
              "        4.9600000e+00,  4.9700000e+00,  4.9800000e+00,  4.9900000e+00])"
            ]
          },
          "metadata": {
            "tags": []
          },
          "execution_count": 159
        }
      ]
    },
    {
      "cell_type": "code",
      "metadata": {
        "id": "ViwdCCkdPWgI",
        "outputId": "550b6c58-0ce1-43f2-cfbf-2f15f37ef924",
        "colab": {
          "base_uri": "https://localhost:8080/",
          "height": 134
        }
      },
      "source": [
        "#Coordenadas esses são tuples\n",
        "xs, ys = np.meshgrid(points, points)\n",
        "ys"
      ],
      "execution_count": 160,
      "outputs": [
        {
          "output_type": "execute_result",
          "data": {
            "text/plain": [
              "array([[-5.  , -5.  , -5.  , ..., -5.  , -5.  , -5.  ],\n",
              "       [-4.99, -4.99, -4.99, ..., -4.99, -4.99, -4.99],\n",
              "       [-4.98, -4.98, -4.98, ..., -4.98, -4.98, -4.98],\n",
              "       ...,\n",
              "       [ 4.97,  4.97,  4.97, ...,  4.97,  4.97,  4.97],\n",
              "       [ 4.98,  4.98,  4.98, ...,  4.98,  4.98,  4.98],\n",
              "       [ 4.99,  4.99,  4.99, ...,  4.99,  4.99,  4.99]])"
            ]
          },
          "metadata": {
            "tags": []
          },
          "execution_count": 160
        }
      ]
    },
    {
      "cell_type": "code",
      "metadata": {
        "id": "wOHaC5sGPy48",
        "outputId": "90349092-2ed5-4749-8b89-15f01d908b5a",
        "colab": {
          "base_uri": "https://localhost:8080/",
          "height": 234
        }
      },
      "source": [
        "z = np.sqrt(xs**2 + ys**2)\n",
        "z"
      ],
      "execution_count": 161,
      "outputs": [
        {
          "output_type": "execute_result",
          "data": {
            "text/plain": [
              "array([[7.07106781, 7.06400028, 7.05693985, ..., 7.04988652, 7.05693985,\n",
              "        7.06400028],\n",
              "       [7.06400028, 7.05692568, 7.04985815, ..., 7.04279774, 7.04985815,\n",
              "        7.05692568],\n",
              "       [7.05693985, 7.04985815, 7.04278354, ..., 7.03571603, 7.04278354,\n",
              "        7.04985815],\n",
              "       ...,\n",
              "       [7.04988652, 7.04279774, 7.03571603, ..., 7.0286414 , 7.03571603,\n",
              "        7.04279774],\n",
              "       [7.05693985, 7.04985815, 7.04278354, ..., 7.03571603, 7.04278354,\n",
              "        7.04985815],\n",
              "       [7.06400028, 7.05692568, 7.04985815, ..., 7.04279774, 7.04985815,\n",
              "        7.05692568]])"
            ]
          },
          "metadata": {
            "tags": []
          },
          "execution_count": 161
        }
      ]
    },
    {
      "cell_type": "code",
      "metadata": {
        "id": "yTXB7_nIQeJS"
      },
      "source": [
        "import matplotlib.pyplot as plt"
      ],
      "execution_count": 162,
      "outputs": []
    },
    {
      "cell_type": "code",
      "metadata": {
        "id": "Ol07GdcERTIP",
        "outputId": "7945fcdb-bc5c-4bfd-c22f-9f2c8d3ca598",
        "colab": {
          "base_uri": "https://localhost:8080/",
          "height": 286
        }
      },
      "source": [
        "#plt.imshow(z, cmap = plt.cm.gray); plt.colorbar()\n",
        "plt.imshow(z); plt.colorbar()"
      ],
      "execution_count": 165,
      "outputs": [
        {
          "output_type": "execute_result",
          "data": {
            "text/plain": [
              "<matplotlib.colorbar.Colorbar at 0x7f3d813651d0>"
            ]
          },
          "metadata": {
            "tags": []
          },
          "execution_count": 165
        },
        {
          "output_type": "display_data",
          "data": {
            "image/png": "[encoded data removed]",
            "text/plain": [
              "<Figure size 432x288 with 2 Axes>"
            ]
          },
          "metadata": {
            "tags": [],
            "needs_background": "light"
          }
        }
      ]
    },
    {
      "cell_type": "code",
      "metadata": {
        "id": "3MrC7mDJRhCW"
      },
      "source": [
        "##exemplo\n",
        "##Multiplicar uma serie de calculo  de juros compostos usando np.array\n",
        "\n",
        "serie = np.arange(1, 10)\n",
        "taxa = .10\n",
        "n = np.arange(1, 100)\n",
        "montante = 1000"
      ],
      "execution_count": 168,
      "outputs": []
    },
    {
      "cell_type": "code",
      "metadata": {
        "id": "zwahiBekksrT"
      },
      "source": [
        "serie[0:100] = 1"
      ],
      "execution_count": 169,
      "outputs": []
    },
    {
      "cell_type": "code",
      "metadata": {
        "id": "oZ8UpDOmkvms",
        "outputId": "9f96f6ad-48b5-41ca-83ac-8621fe1afd1a",
        "colab": {
          "base_uri": "https://localhost:8080/",
          "height": 67
        }
      },
      "source": [
        "##exemplo\n",
        "##Multiplicar uma serie de calculo  de juros compostos usando np.array\n",
        "taxa= .10\n",
        "montante = 100\n",
        "serie = np.arange(1, 100)\n",
        "serie[0:100] = 1\n",
        "serie = montante*(1+taxa)**n\n",
        "serie[0:10]"
      ],
      "execution_count": 173,
      "outputs": [
        {
          "output_type": "execute_result",
          "data": {
            "text/plain": [
              "array([110.        , 121.        , 133.1       , 146.41      ,\n",
              "       161.051     , 177.1561    , 194.87171   , 214.358881  ,\n",
              "       235.7947691 , 259.37424601])"
            ]
          },
          "metadata": {
            "tags": []
          },
          "execution_count": 173
        }
      ]
    },
    {
      "cell_type": "code",
      "metadata": {
        "id": "TyslCmxrlQnz",
        "outputId": "86ab42b1-a318-416e-883c-cf291116d389",
        "colab": {
          "base_uri": "https://localhost:8080/",
          "height": 281
        }
      },
      "source": [
        "plt.plot(serie[0:25])"
      ],
      "execution_count": 174,
      "outputs": [
        {
          "output_type": "execute_result",
          "data": {
            "text/plain": [
              "[<matplotlib.lines.Line2D at 0x7f3d812f9160>]"
            ]
          },
          "metadata": {
            "tags": []
          },
          "execution_count": 174
        },
        {
          "output_type": "display_data",
          "data": {
            "image/png": "[encoded data removed]",
            "text/plain": [
              "<Figure size 432x288 with 1 Axes>"
            ]
          },
          "metadata": {
            "tags": [],
            "needs_background": "light"
          }
        }
      ]
    },
    {
      "cell_type": "code",
      "metadata": {
        "id": "6gga2peImmXe"
      },
      "source": [
        "##Construinfo uma função de valor presente liquido usando o numpy\n",
        "pmt = 2000\n",
        "serie_financeira = np.arange(0, 60)\n",
        "serie_financeira[0:60] = pmt\n",
        "serie_tempo = np.arange(0,60)\n",
        "taxa = 0.1"
      ],
      "execution_count": 196,
      "outputs": []
    },
    {
      "cell_type": "code",
      "metadata": {
        "id": "oRwZvExLoW3A",
        "outputId": "bf228c43-4095-4713-f527-f47859bd1be6",
        "colab": {
          "base_uri": "https://localhost:8080/",
          "height": 33
        }
      },
      "source": [
        "sum(serie_financeira)"
      ],
      "execution_count": 197,
      "outputs": [
        {
          "output_type": "execute_result",
          "data": {
            "text/plain": [
              "120000"
            ]
          },
          "metadata": {
            "tags": []
          },
          "execution_count": 197
        }
      ]
    },
    {
      "cell_type": "code",
      "metadata": {
        "id": "qTyFMAWtq2JR",
        "outputId": "316f9758-206c-40a7-997d-d178246a3140",
        "colab": {
          "base_uri": "https://localhost:8080/",
          "height": 33
        }
      },
      "source": [
        "serie_descontada = serie_financeira/((1+taxa)**serie_tempo)\n",
        "round(sum(serie_descontada),2)"
      ],
      "execution_count": 198,
      "outputs": [
        {
          "output_type": "execute_result",
          "data": {
            "text/plain": [
              "21927.75"
            ]
          },
          "metadata": {
            "tags": []
          },
          "execution_count": 198
        }
      ]
    },
    {
      "cell_type": "code",
      "metadata": {
        "id": "OZcz8O71rOln",
        "outputId": "9fc65a28-16ac-4c7c-822e-b94724fee8c0",
        "colab": {
          "base_uri": "https://localhost:8080/",
          "height": 281
        }
      },
      "source": [
        "plt.plot(serie_financeira)"
      ],
      "execution_count": 199,
      "outputs": [
        {
          "output_type": "execute_result",
          "data": {
            "text/plain": [
              "[<matplotlib.lines.Line2D at 0x7f3d812b5eb8>]"
            ]
          },
          "metadata": {
            "tags": []
          },
          "execution_count": 199
        },
        {
          "output_type": "display_data",
          "data": {
            "image/png": "[encoded data removed]",
            "text/plain": [
              "<Figure size 432x288 with 1 Axes>"
            ]
          },
          "metadata": {
            "tags": [],
            "needs_background": "light"
          }
        }
      ]
    },
    {
      "cell_type": "code",
      "metadata": {
        "id": "qqOiigXatrD2",
        "outputId": "d490af99-ca6e-4ed7-c1c6-c1dfecfcdd3c",
        "colab": {
          "base_uri": "https://localhost:8080/",
          "height": 281
        }
      },
      "source": [
        "plt.plot(serie_descontada)"
      ],
      "execution_count": 200,
      "outputs": [
        {
          "output_type": "execute_result",
          "data": {
            "text/plain": [
              "[<matplotlib.lines.Line2D at 0x7f3d81d69e48>]"
            ]
          },
          "metadata": {
            "tags": []
          },
          "execution_count": 200
        },
        {
          "output_type": "display_data",
          "data": {
            "image/png": "[encoded data removed]",
            "text/plain": [
              "<Figure size 432x288 with 1 Axes>"
            ]
          },
          "metadata": {
            "tags": [],
            "needs_background": "light"
          }
        }
      ]
    },
    {
      "cell_type": "code",
      "metadata": {
        "id": "kL-4pDaptzWd",
        "outputId": "dc60e5a0-cf28-4ccc-8e2f-fbef4daa0159",
        "colab": {
          "base_uri": "https://localhost:8080/",
          "height": 33
        }
      },
      "source": [
        "juros = sum(serie_financeira) - sum(serie_descontada)\n",
        "juros"
      ],
      "execution_count": 201,
      "outputs": [
        {
          "output_type": "execute_result",
          "data": {
            "text/plain": [
              "98072.25394619242"
            ]
          },
          "metadata": {
            "tags": []
          },
          "execution_count": 201
        }
      ]
    },
    {
      "cell_type": "code",
      "metadata": {
        "id": "j8K9NLcmutRC"
      },
      "source": [
        "def calculo_vlp(pmt, i, n, plot = False):\n",
        "  serie_financeira = np.arange(0, n)\n",
        "  serie_financeira[0:n] = pmt\n",
        "  serie_tempo = np.arange(0,n)\n",
        "\n",
        "  calculo = serie_financeira/((1+i/100)**serie_tempo)\n",
        "\n",
        "\n",
        "  if plot == True:\n",
        "      plt.plot(calculo)\n",
        "      plt.title('Série Descontada')\n",
        "      np.save('serie_descontada.npy',calculo)\n",
        "      return(round(sum(calculo)))\n",
        "\n",
        "  np.save('serie_descontada.npy',calculo)\n",
        "  return(round(sum(calculo)))"
      ],
      "execution_count": 271,
      "outputs": []
    },
    {
      "cell_type": "code",
      "metadata": {
        "id": "WDMgho1rx77Z",
        "outputId": "ecf1fce3-5f41-4b2d-bf0c-2f12a53212ad",
        "colab": {
          "base_uri": "https://localhost:8080/",
          "height": 297
        }
      },
      "source": [
        "calculo_vlp(200, 5.6, 60, plot = True)"
      ],
      "execution_count": 272,
      "outputs": [
        {
          "output_type": "execute_result",
          "data": {
            "text/plain": [
              "3628.0"
            ]
          },
          "metadata": {
            "tags": []
          },
          "execution_count": 272
        },
        {
          "output_type": "display_data",
          "data": {
            "image/png": "[encoded data removed]",
            "text/plain": [
              "<Figure size 432x288 with 1 Axes>"
            ]
          },
          "metadata": {
            "tags": [],
            "needs_background": "light"
          }
        }
      ]
    },
    {
      "cell_type": "code",
      "metadata": {
        "id": "tJm6GgL-IYS5",
        "outputId": "c4478f9c-20ef-4454-bfae-addee89d1df3",
        "colab": {
          "base_uri": "https://localhost:8080/",
          "height": 268
        }
      },
      "source": [
        " "
      ],
      "execution_count": 273,
      "outputs": [
        {
          "output_type": "execute_result",
          "data": {
            "text/plain": [
              "array([200.        , 189.39393939, 179.3503214 , 169.8393195 ,\n",
              "       160.83268892, 152.30368269, 144.22697225, 136.5785722 ,\n",
              "       129.33576913, 122.4770541 , 115.98205881, 109.83149508,\n",
              "       104.00709762,  98.49156971,  93.26853193,  88.32247341,\n",
              "        83.63870589,  79.20331997,  75.00314391,  71.02570446,\n",
              "        67.25918983,  63.69241461,  60.31478656,  57.11627515,\n",
              "        54.08738177,  51.21911153,  48.50294652,  45.93082057,\n",
              "        43.49509524,  41.18853716,  39.00429655,  36.93588689,\n",
              "        34.97716561,  33.12231592,  31.36582947,  29.70249003,\n",
              "        28.12735798,  26.63575566,  25.22325347,  23.88565669,\n",
              "        22.61899308,  21.41950102,  20.28361839,  19.20797196,\n",
              "        18.18936739,  17.22477973,  16.31134444,  15.4463489 ,\n",
              "        14.62722434,  13.8515382 ,  13.11698693,  12.42138914,\n",
              "        11.76267911,  11.13890067,  10.54820139,   9.98882708,\n",
              "         9.45911655,   8.95749673,   8.48247797,   8.03264959])"
            ]
          },
          "metadata": {
            "tags": []
          },
          "execution_count": 273
        }
      ]
    },
    {
      "cell_type": "code",
      "metadata": {
        "id": "h9SB_LMwyBHr",
        "outputId": "bf87e5d6-c238-4302-ee6c-a312398fb4dd",
        "colab": {
          "base_uri": "https://localhost:8080/",
          "height": 33
        }
      },
      "source": [
        "xarr = np.array([1.1, 1.2, 1.3, 1.4, 1.5])\n",
        "xarr"
      ],
      "execution_count": 218,
      "outputs": [
        {
          "output_type": "execute_result",
          "data": {
            "text/plain": [
              "array([1.1, 1.2, 1.3, 1.4, 1.5])"
            ]
          },
          "metadata": {
            "tags": []
          },
          "execution_count": 218
        }
      ]
    },
    {
      "cell_type": "code",
      "metadata": {
        "id": "TS2u7R-O11Vb",
        "outputId": "229f4578-4701-4f68-a1b6-d322429a54fa",
        "colab": {
          "base_uri": "https://localhost:8080/",
          "height": 33
        }
      },
      "source": [
        "yarr = np.array([2.1,2.2,2.3,2.4,2.5])\n",
        "yarr"
      ],
      "execution_count": 219,
      "outputs": [
        {
          "output_type": "execute_result",
          "data": {
            "text/plain": [
              "array([2.1, 2.2, 2.3, 2.4, 2.5])"
            ]
          },
          "metadata": {
            "tags": []
          },
          "execution_count": 219
        }
      ]
    },
    {
      "cell_type": "code",
      "metadata": {
        "id": "TkIZs51m1-up"
      },
      "source": [
        "cond = [True, False, True, True, False]"
      ],
      "execution_count": 220,
      "outputs": []
    },
    {
      "cell_type": "code",
      "metadata": {
        "id": "9m1U7BAQ2F_B"
      },
      "source": [
        "result = [(x if c else y)\n",
        "            for x, y, c in zip(xarr, yarr, cond) ]        "
      ],
      "execution_count": 227,
      "outputs": []
    },
    {
      "cell_type": "code",
      "metadata": {
        "id": "Fq918UXt2LoB",
        "outputId": "db8933df-f1e2-4c2c-9784-3303d8838d99",
        "colab": {
          "base_uri": "https://localhost:8080/",
          "height": 33
        }
      },
      "source": [
        "result = np.where(cond, xarr, yarr)\n",
        "result"
      ],
      "execution_count": 229,
      "outputs": [
        {
          "output_type": "execute_result",
          "data": {
            "text/plain": [
              "array([1.1, 2.2, 1.3, 1.4, 2.5])"
            ]
          },
          "metadata": {
            "tags": []
          },
          "execution_count": 229
        }
      ]
    },
    {
      "cell_type": "code",
      "metadata": {
        "id": "nltZ09VH2_EQ",
        "outputId": "6ea499ea-c5e5-4c25-f106-38bf8332949c",
        "colab": {
          "base_uri": "https://localhost:8080/",
          "height": 100
        }
      },
      "source": [
        "for t in zip(xarr, yarr, cond):\n",
        "    print(t)"
      ],
      "execution_count": 230,
      "outputs": [
        {
          "output_type": "stream",
          "text": [
            "(1.1, 2.1, True)\n",
            "(1.2, 2.2, False)\n",
            "(1.3, 2.3, True)\n",
            "(1.4, 2.4, True)\n",
            "(1.5, 2.5, False)\n"
          ],
          "name": "stdout"
        }
      ]
    },
    {
      "cell_type": "code",
      "metadata": {
        "id": "0Rupb0o35PQ-",
        "outputId": "0c013d1f-8baa-4670-9f88-680384057538",
        "colab": {
          "base_uri": "https://localhost:8080/",
          "height": 84
        }
      },
      "source": [
        "arr = np.random.randn(4,4)\n",
        "arr"
      ],
      "execution_count": 257,
      "outputs": [
        {
          "output_type": "execute_result",
          "data": {
            "text/plain": [
              "array([[ 1.33220338,  0.68467395, -0.08236059, -0.85593526],\n",
              "       [-1.0321064 , -0.06115354, -0.11787679, -0.06632817],\n",
              "       [ 0.34706841, -0.37853861, -0.50985983,  0.68889528],\n",
              "       [-0.59484808, -0.46428477, -1.48520427,  0.65641236]])"
            ]
          },
          "metadata": {
            "tags": []
          },
          "execution_count": 257
        }
      ]
    },
    {
      "cell_type": "code",
      "metadata": {
        "id": "uzbZl8kT6BPs",
        "outputId": "4c8d8750-94bc-4e01-f815-0685d9b6edb5",
        "colab": {
          "base_uri": "https://localhost:8080/",
          "height": 84
        }
      },
      "source": [
        "arr > 0"
      ],
      "execution_count": 258,
      "outputs": [
        {
          "output_type": "execute_result",
          "data": {
            "text/plain": [
              "array([[ True,  True, False, False],\n",
              "       [False, False, False, False],\n",
              "       [ True, False, False,  True],\n",
              "       [False, False, False,  True]])"
            ]
          },
          "metadata": {
            "tags": []
          },
          "execution_count": 258
        }
      ]
    },
    {
      "cell_type": "code",
      "metadata": {
        "id": "0HWdWuED6HPE",
        "outputId": "e84b4b98-5c5c-4111-e99c-7f35b954b7c3",
        "colab": {
          "base_uri": "https://localhost:8080/",
          "height": 84
        }
      },
      "source": [
        "np.where (arr > 0, 2, -2)"
      ],
      "execution_count": 259,
      "outputs": [
        {
          "output_type": "execute_result",
          "data": {
            "text/plain": [
              "array([[ 2,  2, -2, -2],\n",
              "       [-2, -2, -2, -2],\n",
              "       [ 2, -2, -2,  2],\n",
              "       [-2, -2, -2,  2]])"
            ]
          },
          "metadata": {
            "tags": []
          },
          "execution_count": 259
        }
      ]
    },
    {
      "cell_type": "code",
      "metadata": {
        "id": "khKEzqQe6VTj",
        "outputId": "eaf851e2-910b-40d8-ff42-fcc58f6d8ff5",
        "colab": {
          "base_uri": "https://localhost:8080/",
          "height": 84
        }
      },
      "source": [
        "np.where( arr > 2, 2, arr)"
      ],
      "execution_count": 260,
      "outputs": [
        {
          "output_type": "execute_result",
          "data": {
            "text/plain": [
              "array([[ 1.33220338,  0.68467395, -0.08236059, -0.85593526],\n",
              "       [-1.0321064 , -0.06115354, -0.11787679, -0.06632817],\n",
              "       [ 0.34706841, -0.37853861, -0.50985983,  0.68889528],\n",
              "       [-0.59484808, -0.46428477, -1.48520427,  0.65641236]])"
            ]
          },
          "metadata": {
            "tags": []
          },
          "execution_count": 260
        }
      ]
    },
    {
      "cell_type": "code",
      "metadata": {
        "id": "h8aCc2lT6oaJ",
        "outputId": "d0111186-c831-485e-837f-bf5a8b051a51",
        "colab": {
          "base_uri": "https://localhost:8080/",
          "height": 84
        }
      },
      "source": [
        "arr"
      ],
      "execution_count": 254,
      "outputs": [
        {
          "output_type": "execute_result",
          "data": {
            "text/plain": [
              "array([[ 0.16808802,  0.77824456, -0.02797357, -0.18684988],\n",
              "       [-0.0994833 ,  2.00591602, -0.0709274 ,  0.8841202 ],\n",
              "       [ 0.23562391,  0.37381901,  0.25819623,  1.72747754],\n",
              "       [ 0.29131125,  0.09350596, -2.31244118,  0.53445768]])"
            ]
          },
          "metadata": {
            "tags": []
          },
          "execution_count": 254
        }
      ]
    },
    {
      "cell_type": "code",
      "metadata": {
        "id": "5zwi02FX7JsY",
        "outputId": "7884fd64-b984-4abb-ca77-1219d77cd127",
        "colab": {
          "base_uri": "https://localhost:8080/",
          "height": 33
        }
      },
      "source": [
        "np.mean(arr)"
      ],
      "execution_count": 238,
      "outputs": [
        {
          "output_type": "execute_result",
          "data": {
            "text/plain": [
              "0.29081781408874363"
            ]
          },
          "metadata": {
            "tags": []
          },
          "execution_count": 238
        }
      ]
    },
    {
      "cell_type": "code",
      "metadata": {
        "id": "LXQpMr4V7MLM",
        "outputId": "b17a1a02-348a-49ff-86d9-4a18ee8f40cb",
        "colab": {
          "base_uri": "https://localhost:8080/",
          "height": 33
        }
      },
      "source": [
        "#axis = 0 para coluna e = 1 para linhas dizer se quer trabalhar com a coluna ou com a linhas \n",
        "arr.mean(axis = 1)"
      ],
      "execution_count": 241,
      "outputs": [
        {
          "output_type": "execute_result",
          "data": {
            "text/plain": [
              "array([ 0.18287728,  0.67990638,  0.64877917, -0.34829157])"
            ]
          },
          "metadata": {
            "tags": []
          },
          "execution_count": 241
        }
      ]
    },
    {
      "cell_type": "code",
      "metadata": {
        "id": "n79hZCNF7TZP",
        "outputId": "ea80c137-2f4b-4eba-e327-ce8e43c79022",
        "colab": {
          "base_uri": "https://localhost:8080/",
          "height": 84
        }
      },
      "source": [
        "#cumsum soma acumulada (pareto)\n",
        "arr.cumsum()"
      ],
      "execution_count": 244,
      "outputs": [
        {
          "output_type": "execute_result",
          "data": {
            "text/plain": [
              "array([0.16808802, 0.94633258, 0.91835901, 0.73150913, 0.63202582,\n",
              "       2.63794185, 2.56701444, 3.45113464, 3.68675854, 4.06057755,\n",
              "       4.31877378, 6.04625132, 6.33756257, 6.43106853, 4.11862735,\n",
              "       4.65308503])"
            ]
          },
          "metadata": {
            "tags": []
          },
          "execution_count": 244
        }
      ]
    },
    {
      "cell_type": "code",
      "metadata": {
        "id": "UYzwvqdf_-DI",
        "outputId": "a9e85fcd-4418-4ba3-9047-2ce6ca234c7e",
        "colab": {
          "base_uri": "https://localhost:8080/",
          "height": 84
        }
      },
      "source": [
        "arr.cumsum(axis = 1)"
      ],
      "execution_count": 245,
      "outputs": [
        {
          "output_type": "execute_result",
          "data": {
            "text/plain": [
              "array([[ 0.16808802,  0.77824456, -0.02797357, -0.18684988],\n",
              "       [ 0.06860471,  2.78416058, -0.09890097,  0.69727032],\n",
              "       [ 0.30422862,  3.15797959,  0.15929526,  2.42474786],\n",
              "       [ 0.59553987,  3.25148555, -2.15314592,  2.95920553]])"
            ]
          },
          "metadata": {
            "tags": []
          },
          "execution_count": 245
        }
      ]
    },
    {
      "cell_type": "code",
      "metadata": {
        "id": "fEY2oUtuA6os",
        "outputId": "ac39930e-490a-49ca-8400-2b0652194739",
        "colab": {
          "base_uri": "https://localhost:8080/",
          "height": 150
        }
      },
      "source": [
        "arr.cumprod( axis = 0)"
      ],
      "execution_count": 249,
      "outputs": [
        {
          "output_type": "execute_result",
          "data": {
            "text/plain": [
              "array([[ 1.68088017e-01,  7.78244562e-01, -2.79735706e-02,\n",
              "        -1.86849880e-01],\n",
              "       [-1.67219514e-02,  1.56109323e+00,  1.98409274e-03,\n",
              "        -1.65197752e-01],\n",
              "       [-3.94009149e-03,  5.83566324e-01,  5.12285270e-04,\n",
              "        -2.85375407e-01],\n",
              "       [-1.14779299e-03,  5.45669265e-02, -1.18462956e-03,\n",
              "        -1.52521077e-01]])"
            ]
          },
          "metadata": {
            "tags": []
          },
          "execution_count": 249
        }
      ]
    },
    {
      "cell_type": "code",
      "metadata": {
        "id": "OTneWribBeY8"
      },
      "source": [
        ""
      ],
      "execution_count": null,
      "outputs": []
    },
    {
      "cell_type": "code",
      "metadata": {
        "id": "D3PqT52VBChU",
        "outputId": "84ebd39c-2ba3-46d5-9837-6dc0d045f63a",
        "colab": {
          "base_uri": "https://localhost:8080/",
          "height": 33
        }
      },
      "source": [
        "arr.min(axis = 0)"
      ],
      "execution_count": 261,
      "outputs": [
        {
          "output_type": "execute_result",
          "data": {
            "text/plain": [
              "array([-1.0321064 , -0.46428477, -1.48520427, -0.85593526])"
            ]
          },
          "metadata": {
            "tags": []
          },
          "execution_count": 261
        }
      ]
    },
    {
      "cell_type": "code",
      "metadata": {
        "id": "-BV_tRlQBN5D",
        "outputId": "2f195870-b208-45c1-953c-3e610119d152",
        "colab": {
          "base_uri": "https://localhost:8080/",
          "height": 33
        }
      },
      "source": [
        "arr.max( axis = 0)"
      ],
      "execution_count": 262,
      "outputs": [
        {
          "output_type": "execute_result",
          "data": {
            "text/plain": [
              "array([ 1.33220338,  0.68467395, -0.08236059,  0.68889528])"
            ]
          },
          "metadata": {
            "tags": []
          },
          "execution_count": 262
        }
      ]
    },
    {
      "cell_type": "code",
      "metadata": {
        "id": "d8dxUYsdBRyb",
        "outputId": "c152f18c-2b6b-4098-a559-9b3c5a0b75bd",
        "colab": {
          "base_uri": "https://localhost:8080/",
          "height": 84
        }
      },
      "source": [
        "arr.sort(axis = 1)\n",
        "arr"
      ],
      "execution_count": 264,
      "outputs": [
        {
          "output_type": "execute_result",
          "data": {
            "text/plain": [
              "array([[-1.48520427, -1.0321064 , -0.85593526, -0.46428477],\n",
              "       [-0.59484808, -0.50985983, -0.37853861, -0.06632817],\n",
              "       [-0.11787679, -0.06115354,  0.34706841,  0.65641236],\n",
              "       [-0.08236059,  0.68467395,  0.68889528,  1.33220338]])"
            ]
          },
          "metadata": {
            "tags": []
          },
          "execution_count": 264
        }
      ]
    },
    {
      "cell_type": "code",
      "metadata": {
        "id": "qi9qj2kIDnjj",
        "outputId": "fcde51db-f370-4095-cd8a-5bc853cdd886",
        "colab": {
          "base_uri": "https://localhost:8080/",
          "height": 393
        }
      },
      "source": [
        "arr_grande = np.random.randn(100000000)\n",
        "plt.hist(arr_grande)"
      ],
      "execution_count": 268,
      "outputs": [
        {
          "output_type": "execute_result",
          "data": {
            "text/plain": [
              "(array([5.7200000e+02, 5.2163000e+04, 1.4752100e+06, 1.3113693e+07,\n",
              "        3.7731496e+07, 3.5542550e+07, 1.0963216e+07, 1.0869280e+06,\n",
              "        3.3869000e+04, 3.0300000e+02]),\n",
              " array([-5.4975015 , -4.38609818, -3.27469486, -2.16329154, -1.05188822,\n",
              "         0.0595151 ,  1.17091842,  2.28232174,  3.39372506,  4.50512838,\n",
              "         5.6165317 ]),\n",
              " <a list of 10 Patch objects>)"
            ]
          },
          "metadata": {
            "tags": []
          },
          "execution_count": 268
        },
        {
          "output_type": "display_data",
          "data": {
            "image/png": "[encoded data removed]",
            "text/plain": [
              "<Figure size 432x288 with 1 Axes>"
            ]
          },
          "metadata": {
            "tags": [],
            "needs_background": "light"
          }
        }
      ]
    },
    {
      "cell_type": "code",
      "metadata": {
        "id": "Z91KZXjPEQsZ",
        "outputId": "42037fdb-3046-47d9-f229-d1df00f704dd",
        "colab": {
          "base_uri": "https://localhost:8080/",
          "height": 67
        }
      },
      "source": [
        "x = np.array([[1,2,3],[4,5,6]])\n",
        "y = np.array([[6,23],[-1,7],[8,9]])\n",
        "y"
      ],
      "execution_count": 276,
      "outputs": [
        {
          "output_type": "execute_result",
          "data": {
            "text/plain": [
              "array([[ 6, 23],\n",
              "       [-1,  7],\n",
              "       [ 8,  9]])"
            ]
          },
          "metadata": {
            "tags": []
          },
          "execution_count": 276
        }
      ]
    },
    {
      "cell_type": "code",
      "metadata": {
        "id": "PCYeqZ4RNncS",
        "outputId": "9d52ea3d-1acc-462a-97c5-14a39d97334f",
        "colab": {
          "base_uri": "https://localhost:8080/",
          "height": 50
        }
      },
      "source": [
        "x\n"
      ],
      "execution_count": 277,
      "outputs": [
        {
          "output_type": "execute_result",
          "data": {
            "text/plain": [
              "array([[1, 2, 3],\n",
              "       [4, 5, 6]])"
            ]
          },
          "metadata": {
            "tags": []
          },
          "execution_count": 277
        }
      ]
    },
    {
      "cell_type": "code",
      "metadata": {
        "id": "GQgn_bE9N1fI",
        "outputId": "25235e0d-c584-49b1-f71e-5bb2195f60f9",
        "colab": {
          "base_uri": "https://localhost:8080/",
          "height": 50
        }
      },
      "source": [
        "#multiplicação de produto interno\n",
        "x.dot(y)"
      ],
      "execution_count": 279,
      "outputs": [
        {
          "output_type": "execute_result",
          "data": {
            "text/plain": [
              "array([[ 28,  64],\n",
              "       [ 67, 181]])"
            ]
          },
          "metadata": {
            "tags": []
          },
          "execution_count": 279
        }
      ]
    },
    {
      "cell_type": "code",
      "metadata": {
        "id": "w0b0v5oMN53A"
      },
      "source": [
        "array()"
      ],
      "execution_count": null,
      "outputs": []
    }
  ]
}